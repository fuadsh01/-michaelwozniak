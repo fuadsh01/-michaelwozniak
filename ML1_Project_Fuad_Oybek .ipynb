{
 "cells": [
  {
   "cell_type": "markdown",
   "id": "fd20e7a1",
   "metadata": {},
   "source": [
    "# USA Violence : 2000 School Shootings in 21 Months"
   ]
  },
  {
   "cell_type": "markdown",
   "id": "19fe506c",
   "metadata": {},
   "source": [
    "### Authors:\n",
    "- Fuad Shabbanov 428246\n",
    "- Oybek Ismatov 436651\n"
   ]
  },
  {
   "cell_type": "markdown",
   "id": "941888f2",
   "metadata": {},
   "source": [
    "### Dataset source link - https://www.kaggle.com/datasets/mauryansshivam/usa-violence-2000-school-shootings-in-21-months/data"
   ]
  },
  {
   "cell_type": "markdown",
   "id": "07070d51",
   "metadata": {},
   "source": [
    "## Introduction to the project"
   ]
  },
  {
   "cell_type": "markdown",
   "id": "c778cfae",
   "metadata": {},
   "source": [
    "In recent years, incidents of violence within educational institutions have gained significant attention and raised concerns about the safety and security of students and staff. One of the most devastating forms of violence is school shootings, which have become a recurring issue in the United States. Understanding the patterns, characteristics, and factors associated with these incidents is crucial for implementing effective preventive measures and promoting a safer learning environment."
   ]
  },
  {
   "cell_type": "markdown",
   "id": "4c02b26e",
   "metadata": {},
   "source": [
    "## Project Overview"
   ]
  },
  {
   "cell_type": "markdown",
   "id": "b2efbfd4",
   "metadata": {},
   "source": [
    "This project focuses on analyzing data related to school shootings in the United States, specifically during a 21-month period. The dataset includes information about incidents such as the location, date, number of victims killed and injured, and other relevant details. By leveraging data analysis and visualization techniques, the goal is to gain insights into the dynamics of school shootings, identify trends, and explore potential correlations with various factors."
   ]
  },
  {
   "cell_type": "markdown",
   "id": "46abff79",
   "metadata": {},
   "source": [
    "## Key Objectives:"
   ]
  },
  {
   "cell_type": "markdown",
   "id": "50be3c12",
   "metadata": {},
   "source": [
    "1. Exploratory Data Analysis (EDA): Conduct a thorough exploration of the dataset to uncover patterns, distributions, and trends related to school shootings.\n",
    "\n",
    "2. Temporal Analysis: Investigate whether there are specific temporal patterns, such as seasonality or trends over the 21-month period.\n",
    "\n",
    "3. Geospatial Analysis: Explore the geographical distribution of school shootings to identify high-risk areas and potential hotspots.\n",
    "\n",
    "4. Casualty Analysis: Examine the total number of casualties, including victims killed and injured, and identify any patterns or outliers.\n",
    "\n",
    "5. Text Analysis: Analyze any textual information available in the dataset, such as incident descriptions, to extract insights or common themes.\n",
    "\n",
    "6. Feature Engineering: Create new features that may enhance the predictive power of models or provide additional context to the analysis.\n",
    "\n",
    "## Significance:\n",
    "\n",
    "By comprehensively analyzing the dataset, this project aims to contribute to the understanding of school shootings in the United States. The insights derived from the analysis can inform policymakers, educators, and law enforcement agencies in developing targeted strategies to prevent and respond to such incidents. Ultimately, the goal is to contribute to the ongoing efforts to ensure the safety and well-being of students and educators across the nation."
   ]
  },
  {
   "cell_type": "markdown",
   "id": "a2b9b9b1",
   "metadata": {},
   "source": [
    "# Import the libraries"
   ]
  },
  {
   "cell_type": "code",
   "execution_count": 99,
   "id": "751aaffe",
   "metadata": {},
   "outputs": [
    {
     "name": "stdout",
     "output_type": "stream",
     "text": [
      "Requirement already satisfied: xgboost in c:\\users\\oybek\\anaconda3\\lib\\site-packages (1.6.2)\n",
      "Requirement already satisfied: numpy in c:\\users\\oybek\\appdata\\roaming\\python\\python39\\site-packages (from xgboost) (1.24.3)\n",
      "Requirement already satisfied: scipy in c:\\users\\oybek\\anaconda3\\lib\\site-packages (from xgboost) (1.11.4)\n",
      "Note: you may need to restart the kernel to use updated packages.\n"
     ]
    }
   ],
   "source": [
    "pip install xgboost"
   ]
  },
  {
   "cell_type": "code",
   "execution_count": 100,
   "id": "7a503202",
   "metadata": {},
   "outputs": [
    {
     "name": "stdout",
     "output_type": "stream",
     "text": [
      "Requirement already satisfied: category_encoders in c:\\users\\oybek\\anaconda3\\lib\\site-packages (2.6.3)\n",
      "Requirement already satisfied: statsmodels>=0.9.0 in c:\\users\\oybek\\anaconda3\\lib\\site-packages (from category_encoders) (0.13.2)\n",
      "Requirement already satisfied: patsy>=0.5.1 in c:\\users\\oybek\\anaconda3\\lib\\site-packages (from category_encoders) (0.5.2)\n",
      "Requirement already satisfied: pandas>=1.0.5 in c:\\users\\oybek\\appdata\\roaming\\python\\python39\\site-packages (from category_encoders) (1.3.5)\n",
      "Requirement already satisfied: scikit-learn>=0.20.0 in c:\\users\\oybek\\anaconda3\\lib\\site-packages (from category_encoders) (1.0.2)\n",
      "Requirement already satisfied: scipy>=1.0.0 in c:\\users\\oybek\\anaconda3\\lib\\site-packages (from category_encoders) (1.11.4)\n",
      "Requirement already satisfied: numpy>=1.14.0 in c:\\users\\oybek\\appdata\\roaming\\python\\python39\\site-packages (from category_encoders) (1.24.3)\n",
      "Requirement already satisfied: pytz>=2017.3 in c:\\users\\oybek\\anaconda3\\lib\\site-packages (from pandas>=1.0.5->category_encoders) (2021.3)\n",
      "Requirement already satisfied: python-dateutil>=2.7.3 in c:\\users\\oybek\\anaconda3\\lib\\site-packages (from pandas>=1.0.5->category_encoders) (2.8.2)\n",
      "Requirement already satisfied: six in c:\\users\\oybek\\anaconda3\\lib\\site-packages (from patsy>=0.5.1->category_encoders) (1.16.0)\n",
      "Requirement already satisfied: threadpoolctl>=2.0.0 in c:\\users\\oybek\\anaconda3\\lib\\site-packages (from scikit-learn>=0.20.0->category_encoders) (2.2.0)\n",
      "Requirement already satisfied: joblib>=0.11 in c:\\users\\oybek\\anaconda3\\lib\\site-packages (from scikit-learn>=0.20.0->category_encoders) (1.1.0)\n",
      "Requirement already satisfied: packaging>=21.3 in c:\\users\\oybek\\anaconda3\\lib\\site-packages (from statsmodels>=0.9.0->category_encoders) (21.3)\n",
      "Requirement already satisfied: pyparsing!=3.0.5,>=2.0.2 in c:\\users\\oybek\\anaconda3\\lib\\site-packages (from packaging>=21.3->statsmodels>=0.9.0->category_encoders) (3.0.4)\n",
      "Note: you may need to restart the kernel to use updated packages.\n"
     ]
    }
   ],
   "source": [
    "pip install category_encoders"
   ]
  },
  {
   "cell_type": "code",
   "execution_count": 101,
   "id": "68ec3f1a",
   "metadata": {},
   "outputs": [
    {
     "name": "stdout",
     "output_type": "stream",
     "text": [
      "Requirement already satisfied: autoviz in c:\\users\\oybek\\anaconda3\\lib\\site-packages (0.1.804)\n",
      "Requirement already satisfied: hvplot~=0.7.3 in c:\\users\\oybek\\anaconda3\\lib\\site-packages (from autoviz) (0.7.3)\n",
      "Requirement already satisfied: typing-extensions>=4.1.1 in c:\\users\\oybek\\anaconda3\\lib\\site-packages (from autoviz) (4.9.0)\n",
      "Requirement already satisfied: fsspec>=0.8.3 in c:\\users\\oybek\\anaconda3\\lib\\site-packages (from autoviz) (2022.2.0)\n",
      "Requirement already satisfied: xlrd in c:\\users\\oybek\\anaconda3\\lib\\site-packages (from autoviz) (2.0.1)\n",
      "Requirement already satisfied: emoji in c:\\users\\oybek\\anaconda3\\lib\\site-packages (from autoviz) (2.9.0)\n",
      "Requirement already satisfied: wordcloud in c:\\users\\oybek\\anaconda3\\lib\\site-packages (from autoviz) (1.9.3)\n",
      "Requirement already satisfied: seaborn>=0.12.2 in c:\\users\\oybek\\anaconda3\\lib\\site-packages (from autoviz) (0.13.1)\n",
      "Requirement already satisfied: pandas in c:\\users\\oybek\\appdata\\roaming\\python\\python39\\site-packages (from autoviz) (1.3.5)\n",
      "Requirement already satisfied: textblob in c:\\users\\oybek\\anaconda3\\lib\\site-packages (from autoviz) (0.17.1)\n",
      "Requirement already satisfied: pandas-dq>=1.29 in c:\\users\\oybek\\anaconda3\\lib\\site-packages (from autoviz) (1.29)\n",
      "Requirement already satisfied: statsmodels in c:\\users\\oybek\\anaconda3\\lib\\site-packages (from autoviz) (0.13.2)\n",
      "Requirement already satisfied: nltk in c:\\users\\oybek\\anaconda3\\lib\\site-packages (from autoviz) (3.7)\n",
      "Requirement already satisfied: numpy<1.25.0 in c:\\users\\oybek\\appdata\\roaming\\python\\python39\\site-packages (from autoviz) (1.24.3)\n",
      "Requirement already satisfied: scikit-learn in c:\\users\\oybek\\anaconda3\\lib\\site-packages (from autoviz) (1.0.2)\n",
      "Requirement already satisfied: pyamg in c:\\users\\oybek\\anaconda3\\lib\\site-packages (from autoviz) (5.0.1)\n",
      "Requirement already satisfied: xgboost<1.7,>=0.82 in c:\\users\\oybek\\anaconda3\\lib\\site-packages (from autoviz) (1.6.2)\n",
      "Requirement already satisfied: matplotlib<=3.7.4 in c:\\users\\oybek\\anaconda3\\lib\\site-packages (from autoviz) (3.5.1)\n",
      "Requirement already satisfied: panel>=0.12.6 in c:\\users\\oybek\\anaconda3\\lib\\site-packages (from autoviz) (0.13.0)\n",
      "Requirement already satisfied: bokeh~=2.4.2 in c:\\users\\oybek\\anaconda3\\lib\\site-packages (from autoviz) (2.4.2)\n",
      "Requirement already satisfied: holoviews~=1.14.9 in c:\\users\\oybek\\anaconda3\\lib\\site-packages (from autoviz) (1.14.9)\n",
      "Requirement already satisfied: packaging>=16.8 in c:\\users\\oybek\\anaconda3\\lib\\site-packages (from bokeh~=2.4.2->autoviz) (21.3)\n",
      "Requirement already satisfied: PyYAML>=3.10 in c:\\users\\oybek\\anaconda3\\lib\\site-packages (from bokeh~=2.4.2->autoviz) (6.0)\n",
      "Requirement already satisfied: pillow>=7.1.0 in c:\\users\\oybek\\anaconda3\\lib\\site-packages (from bokeh~=2.4.2->autoviz) (9.0.1)\n",
      "Requirement already satisfied: tornado>=5.1 in c:\\users\\oybek\\anaconda3\\lib\\site-packages (from bokeh~=2.4.2->autoviz) (6.1)\n",
      "Requirement already satisfied: Jinja2>=2.9 in c:\\users\\oybek\\anaconda3\\lib\\site-packages (from bokeh~=2.4.2->autoviz) (3.0.3)\n",
      "Requirement already satisfied: param<2.0,>=1.9.3 in c:\\users\\oybek\\anaconda3\\lib\\site-packages (from holoviews~=1.14.9->autoviz) (1.12.0)\n",
      "Requirement already satisfied: pyviz-comms>=0.7.4 in c:\\users\\oybek\\anaconda3\\lib\\site-packages (from holoviews~=1.14.9->autoviz) (2.0.2)\n",
      "Requirement already satisfied: colorcet in c:\\users\\oybek\\anaconda3\\lib\\site-packages (from holoviews~=1.14.9->autoviz) (2.0.6)\n",
      "Requirement already satisfied: pyct>=0.4.4 in c:\\users\\oybek\\anaconda3\\lib\\site-packages (from colorcet->holoviews~=1.14.9->autoviz) (0.4.6)\n",
      "Requirement already satisfied: MarkupSafe>=2.0 in c:\\users\\oybek\\anaconda3\\lib\\site-packages (from Jinja2>=2.9->bokeh~=2.4.2->autoviz) (2.1.3)\n",
      "Requirement already satisfied: kiwisolver>=1.0.1 in c:\\users\\oybek\\anaconda3\\lib\\site-packages (from matplotlib<=3.7.4->autoviz) (1.3.2)\n",
      "Requirement already satisfied: fonttools>=4.22.0 in c:\\users\\oybek\\anaconda3\\lib\\site-packages (from matplotlib<=3.7.4->autoviz) (4.25.0)\n",
      "Requirement already satisfied: cycler>=0.10 in c:\\users\\oybek\\anaconda3\\lib\\site-packages (from matplotlib<=3.7.4->autoviz) (0.11.0)\n",
      "Requirement already satisfied: pyparsing>=2.2.1 in c:\\users\\oybek\\anaconda3\\lib\\site-packages (from matplotlib<=3.7.4->autoviz) (3.0.4)\n",
      "Requirement already satisfied: python-dateutil>=2.7 in c:\\users\\oybek\\anaconda3\\lib\\site-packages (from matplotlib<=3.7.4->autoviz) (2.8.2)\n",
      "Requirement already satisfied: pytz>=2017.3 in c:\\users\\oybek\\anaconda3\\lib\\site-packages (from pandas->autoviz) (2021.3)\n",
      "Requirement already satisfied: requests in c:\\users\\oybek\\anaconda3\\lib\\site-packages (from panel>=0.12.6->autoviz) (2.27.1)\n",
      "Requirement already satisfied: bleach in c:\\users\\oybek\\anaconda3\\lib\\site-packages (from panel>=0.12.6->autoviz) (4.1.0)\n",
      "Requirement already satisfied: markdown in c:\\users\\oybek\\anaconda3\\lib\\site-packages (from panel>=0.12.6->autoviz) (3.3.4)\n",
      "Requirement already satisfied: tqdm>=4.48.0 in c:\\users\\oybek\\anaconda3\\lib\\site-packages (from panel>=0.12.6->autoviz) (4.64.0)\n",
      "Requirement already satisfied: six>=1.5 in c:\\users\\oybek\\anaconda3\\lib\\site-packages (from python-dateutil>=2.7->matplotlib<=3.7.4->autoviz) (1.16.0)\n",
      "Requirement already satisfied: scipy>=1.1.0 in c:\\users\\oybek\\anaconda3\\lib\\site-packages (from scikit-learn->autoviz) (1.11.4)\n",
      "Requirement already satisfied: threadpoolctl>=2.0.0 in c:\\users\\oybek\\anaconda3\\lib\\site-packages (from scikit-learn->autoviz) (2.2.0)\n",
      "Requirement already satisfied: joblib>=0.11 in c:\\users\\oybek\\anaconda3\\lib\\site-packages (from scikit-learn->autoviz) (1.1.0)\n",
      "Requirement already satisfied: colorama in c:\\users\\oybek\\anaconda3\\lib\\site-packages (from tqdm>=4.48.0->panel>=0.12.6->autoviz) (0.4.4)\n",
      "Requirement already satisfied: webencodings in c:\\users\\oybek\\anaconda3\\lib\\site-packages (from bleach->panel>=0.12.6->autoviz) (0.5.1)\n",
      "Requirement already satisfied: regex>=2021.8.3 in c:\\users\\oybek\\anaconda3\\lib\\site-packages (from nltk->autoviz) (2021.11.10)\n",
      "Requirement already satisfied: click in c:\\users\\oybek\\anaconda3\\lib\\site-packages (from nltk->autoviz) (8.1.7)\n",
      "Requirement already satisfied: certifi>=2017.4.17 in c:\\users\\oybek\\anaconda3\\lib\\site-packages (from requests->panel>=0.12.6->autoviz) (2021.10.8)\n",
      "Requirement already satisfied: urllib3<1.27,>=1.21.1 in c:\\users\\oybek\\anaconda3\\lib\\site-packages (from requests->panel>=0.12.6->autoviz) (1.26.9)\n",
      "Requirement already satisfied: idna<4,>=2.5 in c:\\users\\oybek\\anaconda3\\lib\\site-packages (from requests->panel>=0.12.6->autoviz) (3.3)\n",
      "Requirement already satisfied: charset-normalizer~=2.0.0 in c:\\users\\oybek\\anaconda3\\lib\\site-packages (from requests->panel>=0.12.6->autoviz) (2.0.4)\n",
      "Requirement already satisfied: patsy>=0.5.2 in c:\\users\\oybek\\anaconda3\\lib\\site-packages (from statsmodels->autoviz) (0.5.2)\n",
      "Requirement already satisfied: dataprep in c:\\users\\oybek\\anaconda3\\lib\\site-packages (0.4.5)\n",
      "Requirement already satisfied: varname<0.9.0,>=0.8.1 in c:\\users\\oybek\\anaconda3\\lib\\site-packages (from dataprep) (0.8.3)\n",
      "Requirement already satisfied: flask<3,>=2 in c:\\users\\oybek\\anaconda3\\lib\\site-packages (from dataprep) (2.2.5)\n",
      "Requirement already satisfied: bokeh<3,>=2 in c:\\users\\oybek\\anaconda3\\lib\\site-packages (from dataprep) (2.4.2)\n",
      "Requirement already satisfied: pandas<2.0,>=1.1 in c:\\users\\oybek\\appdata\\roaming\\python\\python39\\site-packages (from dataprep) (1.3.5)\n",
      "Requirement already satisfied: aiohttp<4.0,>=3.6 in c:\\users\\oybek\\anaconda3\\lib\\site-packages (from dataprep) (3.8.1)\n",
      "Requirement already satisfied: wordcloud<2.0,>=1.8 in c:\\users\\oybek\\anaconda3\\lib\\site-packages (from dataprep) (1.9.3)\n",
      "Requirement already satisfied: metaphone<0.7,>=0.6 in c:\\users\\oybek\\anaconda3\\lib\\site-packages (from dataprep) (0.6)\n",
      "Requirement already satisfied: flask_cors<4.0.0,>=3.0.10 in c:\\users\\oybek\\anaconda3\\lib\\site-packages (from dataprep) (3.0.10)\n",
      "Requirement already satisfied: pydot<2.0.0,>=1.4.2 in c:\\users\\oybek\\anaconda3\\lib\\site-packages (from dataprep) (1.4.2)\n",
      "Requirement already satisfied: python-stdnum<2.0,>=1.16 in c:\\users\\oybek\\anaconda3\\lib\\site-packages (from dataprep) (1.19)\n",
      "Requirement already satisfied: ipywidgets<8.0,>=7.5 in c:\\users\\oybek\\anaconda3\\lib\\site-packages (from dataprep) (7.6.5)\n",
      "Requirement already satisfied: jinja2<3.1,>=3.0 in c:\\users\\oybek\\anaconda3\\lib\\site-packages (from dataprep) (3.0.3)\n",
      "Requirement already satisfied: jsonpath-ng<2.0,>=1.5 in c:\\users\\oybek\\anaconda3\\lib\\site-packages (from dataprep) (1.6.1)\n",
      "Requirement already satisfied: sqlalchemy==1.3.24 in c:\\users\\oybek\\anaconda3\\lib\\site-packages (from dataprep) (1.3.24)\n",
      "Requirement already satisfied: numpy<2.0,>=1.21 in c:\\users\\oybek\\appdata\\roaming\\python\\python39\\site-packages (from dataprep) (1.24.3)\n",
      "Requirement already satisfied: scipy<2.0,>=1.8 in c:\\users\\oybek\\anaconda3\\lib\\site-packages (from dataprep) (1.11.4)\n",
      "Requirement already satisfied: pydantic<2.0,>=1.6 in c:\\users\\oybek\\anaconda3\\lib\\site-packages (from dataprep) (1.10.13)\n",
      "Requirement already satisfied: rapidfuzz<3.0.0,>=2.1.2 in c:\\users\\oybek\\anaconda3\\lib\\site-packages (from dataprep) (2.15.2)\n",
      "Requirement already satisfied: dask[array,dataframe,delayed]>=2022.3.0 in c:\\users\\oybek\\anaconda3\\lib\\site-packages (from dataprep) (2024.1.0)\n",
      "Requirement already satisfied: regex<2022.0.0,>=2021.8.3 in c:\\users\\oybek\\anaconda3\\lib\\site-packages (from dataprep) (2021.11.10)\n",
      "Requirement already satisfied: nltk<4.0.0,>=3.6.7 in c:\\users\\oybek\\anaconda3\\lib\\site-packages (from dataprep) (3.7)\n",
      "Requirement already satisfied: python-crfsuite==0.9.8 in c:\\users\\oybek\\anaconda3\\lib\\site-packages (from dataprep) (0.9.8)\n",
      "Requirement already satisfied: tqdm<5.0,>=4.48 in c:\\users\\oybek\\anaconda3\\lib\\site-packages (from dataprep) (4.64.0)\n",
      "Requirement already satisfied: yarl<2.0,>=1.0 in c:\\users\\oybek\\anaconda3\\lib\\site-packages (from aiohttp<4.0,>=3.6->dataprep) (1.6.3)\n",
      "Requirement already satisfied: aiosignal>=1.1.2 in c:\\users\\oybek\\anaconda3\\lib\\site-packages (from aiohttp<4.0,>=3.6->dataprep) (1.2.0)\n",
      "Requirement already satisfied: charset-normalizer<3.0,>=2.0 in c:\\users\\oybek\\anaconda3\\lib\\site-packages (from aiohttp<4.0,>=3.6->dataprep) (2.0.4)\n",
      "Requirement already satisfied: multidict<7.0,>=4.5 in c:\\users\\oybek\\anaconda3\\lib\\site-packages (from aiohttp<4.0,>=3.6->dataprep) (5.1.0)\n",
      "Requirement already satisfied: frozenlist>=1.1.1 in c:\\users\\oybek\\anaconda3\\lib\\site-packages (from aiohttp<4.0,>=3.6->dataprep) (1.2.0)\n",
      "Requirement already satisfied: attrs>=17.3.0 in c:\\users\\oybek\\anaconda3\\lib\\site-packages (from aiohttp<4.0,>=3.6->dataprep) (21.4.0)\n",
      "Requirement already satisfied: async-timeout<5.0,>=4.0.0a3 in c:\\users\\oybek\\anaconda3\\lib\\site-packages (from aiohttp<4.0,>=3.6->dataprep) (4.0.1)\n",
      "Requirement already satisfied: typing-extensions>=3.6.5 in c:\\users\\oybek\\anaconda3\\lib\\site-packages (from async-timeout<5.0,>=4.0.0a3->aiohttp<4.0,>=3.6->dataprep) (4.9.0)\n",
      "Requirement already satisfied: tornado>=5.1 in c:\\users\\oybek\\anaconda3\\lib\\site-packages (from bokeh<3,>=2->dataprep) (6.1)\n",
      "Requirement already satisfied: PyYAML>=3.10 in c:\\users\\oybek\\anaconda3\\lib\\site-packages (from bokeh<3,>=2->dataprep) (6.0)\n",
      "Requirement already satisfied: packaging>=16.8 in c:\\users\\oybek\\anaconda3\\lib\\site-packages (from bokeh<3,>=2->dataprep) (21.3)\n",
      "Requirement already satisfied: pillow>=7.1.0 in c:\\users\\oybek\\anaconda3\\lib\\site-packages (from bokeh<3,>=2->dataprep) (9.0.1)\n",
      "Requirement already satisfied: cloudpickle>=1.5.0 in c:\\users\\oybek\\anaconda3\\lib\\site-packages (from dask[array,dataframe,delayed]>=2022.3.0->dataprep) (2.0.0)\n",
      "Requirement already satisfied: click>=8.1 in c:\\users\\oybek\\anaconda3\\lib\\site-packages (from dask[array,dataframe,delayed]>=2022.3.0->dataprep) (8.1.7)\n",
      "Requirement already satisfied: importlib-metadata>=4.13.0 in c:\\users\\oybek\\anaconda3\\lib\\site-packages (from dask[array,dataframe,delayed]>=2022.3.0->dataprep) (7.0.1)\n",
      "Requirement already satisfied: toolz>=0.10.0 in c:\\users\\oybek\\anaconda3\\lib\\site-packages (from dask[array,dataframe,delayed]>=2022.3.0->dataprep) (0.11.2)\n",
      "Requirement already satisfied: fsspec>=2021.09.0 in c:\\users\\oybek\\anaconda3\\lib\\site-packages (from dask[array,dataframe,delayed]>=2022.3.0->dataprep) (2022.2.0)\n",
      "Requirement already satisfied: partd>=1.2.0 in c:\\users\\oybek\\anaconda3\\lib\\site-packages (from dask[array,dataframe,delayed]>=2022.3.0->dataprep) (1.2.0)\n",
      "Requirement already satisfied: colorama in c:\\users\\oybek\\anaconda3\\lib\\site-packages (from click>=8.1->dask[array,dataframe,delayed]>=2022.3.0->dataprep) (0.4.4)\n",
      "Requirement already satisfied: Werkzeug>=2.2.2 in c:\\users\\oybek\\anaconda3\\lib\\site-packages (from flask<3,>=2->dataprep) (3.0.1)\n",
      "Requirement already satisfied: itsdangerous>=2.0 in c:\\users\\oybek\\anaconda3\\lib\\site-packages (from flask<3,>=2->dataprep) (2.0.1)\n",
      "Requirement already satisfied: Six in c:\\users\\oybek\\anaconda3\\lib\\site-packages (from flask_cors<4.0.0,>=3.0.10->dataprep) (1.16.0)\n",
      "Requirement already satisfied: zipp>=0.5 in c:\\users\\oybek\\anaconda3\\lib\\site-packages (from importlib-metadata>=4.13.0->dask[array,dataframe,delayed]>=2022.3.0->dataprep) (3.7.0)\n",
      "Requirement already satisfied: traitlets>=4.3.1 in c:\\users\\oybek\\anaconda3\\lib\\site-packages (from ipywidgets<8.0,>=7.5->dataprep) (5.1.1)\n",
      "Requirement already satisfied: widgetsnbextension~=3.5.0 in c:\\users\\oybek\\anaconda3\\lib\\site-packages (from ipywidgets<8.0,>=7.5->dataprep) (3.5.2)\n",
      "Requirement already satisfied: jupyterlab-widgets>=1.0.0 in c:\\users\\oybek\\anaconda3\\lib\\site-packages (from ipywidgets<8.0,>=7.5->dataprep) (1.0.0)\n",
      "Requirement already satisfied: nbformat>=4.2.0 in c:\\users\\oybek\\anaconda3\\lib\\site-packages (from ipywidgets<8.0,>=7.5->dataprep) (5.3.0)\n",
      "Requirement already satisfied: ipython-genutils~=0.2.0 in c:\\users\\oybek\\anaconda3\\lib\\site-packages (from ipywidgets<8.0,>=7.5->dataprep) (0.2.0)\n",
      "Requirement already satisfied: ipykernel>=4.5.1 in c:\\users\\oybek\\anaconda3\\lib\\site-packages (from ipywidgets<8.0,>=7.5->dataprep) (6.9.1)\n",
      "Requirement already satisfied: ipython>=4.0.0 in c:\\users\\oybek\\anaconda3\\lib\\site-packages (from ipywidgets<8.0,>=7.5->dataprep) (8.2.0)\n",
      "Requirement already satisfied: debugpy<2.0,>=1.0.0 in c:\\users\\oybek\\anaconda3\\lib\\site-packages (from ipykernel>=4.5.1->ipywidgets<8.0,>=7.5->dataprep) (1.5.1)\n",
      "Requirement already satisfied: jupyter-client<8.0 in c:\\users\\oybek\\anaconda3\\lib\\site-packages (from ipykernel>=4.5.1->ipywidgets<8.0,>=7.5->dataprep) (6.1.12)\n",
      "Requirement already satisfied: nest-asyncio in c:\\users\\oybek\\anaconda3\\lib\\site-packages (from ipykernel>=4.5.1->ipywidgets<8.0,>=7.5->dataprep) (1.5.5)\n",
      "Requirement already satisfied: matplotlib-inline<0.2.0,>=0.1.0 in c:\\users\\oybek\\anaconda3\\lib\\site-packages (from ipykernel>=4.5.1->ipywidgets<8.0,>=7.5->dataprep) (0.1.2)\n",
      "Requirement already satisfied: setuptools>=18.5 in c:\\users\\oybek\\anaconda3\\lib\\site-packages (from ipython>=4.0.0->ipywidgets<8.0,>=7.5->dataprep) (61.2.0)\n",
      "Requirement already satisfied: stack-data in c:\\users\\oybek\\anaconda3\\lib\\site-packages (from ipython>=4.0.0->ipywidgets<8.0,>=7.5->dataprep) (0.2.0)\n",
      "Requirement already satisfied: prompt-toolkit!=3.0.0,!=3.0.1,<3.1.0,>=2.0.0 in c:\\users\\oybek\\anaconda3\\lib\\site-packages (from ipython>=4.0.0->ipywidgets<8.0,>=7.5->dataprep) (3.0.20)\n",
      "Requirement already satisfied: decorator in c:\\users\\oybek\\anaconda3\\lib\\site-packages (from ipython>=4.0.0->ipywidgets<8.0,>=7.5->dataprep) (5.1.1)\n",
      "Requirement already satisfied: backcall in c:\\users\\oybek\\anaconda3\\lib\\site-packages (from ipython>=4.0.0->ipywidgets<8.0,>=7.5->dataprep) (0.2.0)\n",
      "Requirement already satisfied: jedi>=0.16 in c:\\users\\oybek\\anaconda3\\lib\\site-packages (from ipython>=4.0.0->ipywidgets<8.0,>=7.5->dataprep) (0.18.1)\n",
      "Requirement already satisfied: pickleshare in c:\\users\\oybek\\anaconda3\\lib\\site-packages (from ipython>=4.0.0->ipywidgets<8.0,>=7.5->dataprep) (0.7.5)\n",
      "Requirement already satisfied: pygments>=2.4.0 in c:\\users\\oybek\\anaconda3\\lib\\site-packages (from ipython>=4.0.0->ipywidgets<8.0,>=7.5->dataprep) (2.11.2)\n",
      "Requirement already satisfied: parso<0.9.0,>=0.8.0 in c:\\users\\oybek\\anaconda3\\lib\\site-packages (from jedi>=0.16->ipython>=4.0.0->ipywidgets<8.0,>=7.5->dataprep) (0.8.3)\n",
      "Requirement already satisfied: MarkupSafe>=2.0 in c:\\users\\oybek\\anaconda3\\lib\\site-packages (from jinja2<3.1,>=3.0->dataprep) (2.1.3)\n",
      "Requirement already satisfied: ply in c:\\users\\oybek\\anaconda3\\lib\\site-packages (from jsonpath-ng<2.0,>=1.5->dataprep) (3.11)\n",
      "Requirement already satisfied: python-dateutil>=2.1 in c:\\users\\oybek\\anaconda3\\lib\\site-packages (from jupyter-client<8.0->ipykernel>=4.5.1->ipywidgets<8.0,>=7.5->dataprep) (2.8.2)\n",
      "Requirement already satisfied: jupyter-core>=4.6.0 in c:\\users\\oybek\\anaconda3\\lib\\site-packages (from jupyter-client<8.0->ipykernel>=4.5.1->ipywidgets<8.0,>=7.5->dataprep) (4.9.2)\n",
      "Requirement already satisfied: pyzmq>=13 in c:\\users\\oybek\\anaconda3\\lib\\site-packages (from jupyter-client<8.0->ipykernel>=4.5.1->ipywidgets<8.0,>=7.5->dataprep) (22.3.0)\n",
      "Requirement already satisfied: pywin32>=1.0 in c:\\users\\oybek\\anaconda3\\lib\\site-packages (from jupyter-core>=4.6.0->jupyter-client<8.0->ipykernel>=4.5.1->ipywidgets<8.0,>=7.5->dataprep) (302)\n",
      "Requirement already satisfied: jsonschema>=2.6 in c:\\users\\oybek\\anaconda3\\lib\\site-packages (from nbformat>=4.2.0->ipywidgets<8.0,>=7.5->dataprep) (4.4.0)\n",
      "Requirement already satisfied: fastjsonschema in c:\\users\\oybek\\anaconda3\\lib\\site-packages (from nbformat>=4.2.0->ipywidgets<8.0,>=7.5->dataprep) (2.15.1)\n",
      "Requirement already satisfied: pyrsistent!=0.17.0,!=0.17.1,!=0.17.2,>=0.14.0 in c:\\users\\oybek\\anaconda3\\lib\\site-packages (from jsonschema>=2.6->nbformat>=4.2.0->ipywidgets<8.0,>=7.5->dataprep) (0.18.0)\n",
      "Requirement already satisfied: joblib in c:\\users\\oybek\\anaconda3\\lib\\site-packages (from nltk<4.0.0,>=3.6.7->dataprep) (1.1.0)\n",
      "Requirement already satisfied: pyparsing!=3.0.5,>=2.0.2 in c:\\users\\oybek\\anaconda3\\lib\\site-packages (from packaging>=16.8->bokeh<3,>=2->dataprep) (3.0.4)\n",
      "Requirement already satisfied: pytz>=2017.3 in c:\\users\\oybek\\anaconda3\\lib\\site-packages (from pandas<2.0,>=1.1->dataprep) (2021.3)\n",
      "Requirement already satisfied: locket in c:\\users\\oybek\\anaconda3\\lib\\site-packages (from partd>=1.2.0->dask[array,dataframe,delayed]>=2022.3.0->dataprep) (0.2.1)\n",
      "Requirement already satisfied: wcwidth in c:\\users\\oybek\\anaconda3\\lib\\site-packages (from prompt-toolkit!=3.0.0,!=3.0.1,<3.1.0,>=2.0.0->ipython>=4.0.0->ipywidgets<8.0,>=7.5->dataprep) (0.2.5)\n",
      "Requirement already satisfied: asttokens<3.0.0,>=2.0.0 in c:\\users\\oybek\\anaconda3\\lib\\site-packages (from varname<0.9.0,>=0.8.1->dataprep) (2.0.5)\n",
      "Requirement already satisfied: executing<0.9.0,>=0.8.3 in c:\\users\\oybek\\anaconda3\\lib\\site-packages (from varname<0.9.0,>=0.8.1->dataprep) (0.8.3)\n",
      "Requirement already satisfied: pure_eval<1.0.0 in c:\\users\\oybek\\anaconda3\\lib\\site-packages (from varname<0.9.0,>=0.8.1->dataprep) (0.2.2)\n",
      "Requirement already satisfied: notebook>=4.4.1 in c:\\users\\oybek\\anaconda3\\lib\\site-packages (from widgetsnbextension~=3.5.0->ipywidgets<8.0,>=7.5->dataprep) (6.4.8)\n",
      "Requirement already satisfied: prometheus-client in c:\\users\\oybek\\anaconda3\\lib\\site-packages (from notebook>=4.4.1->widgetsnbextension~=3.5.0->ipywidgets<8.0,>=7.5->dataprep) (0.13.1)\n",
      "Requirement already satisfied: nbconvert in c:\\users\\oybek\\anaconda3\\lib\\site-packages (from notebook>=4.4.1->widgetsnbextension~=3.5.0->ipywidgets<8.0,>=7.5->dataprep) (6.4.4)\n",
      "Requirement already satisfied: argon2-cffi in c:\\users\\oybek\\anaconda3\\lib\\site-packages (from notebook>=4.4.1->widgetsnbextension~=3.5.0->ipywidgets<8.0,>=7.5->dataprep) (21.3.0)\n",
      "Requirement already satisfied: Send2Trash>=1.8.0 in c:\\users\\oybek\\anaconda3\\lib\\site-packages (from notebook>=4.4.1->widgetsnbextension~=3.5.0->ipywidgets<8.0,>=7.5->dataprep) (1.8.0)\n",
      "Requirement already satisfied: terminado>=0.8.3 in c:\\users\\oybek\\anaconda3\\lib\\site-packages (from notebook>=4.4.1->widgetsnbextension~=3.5.0->ipywidgets<8.0,>=7.5->dataprep) (0.13.1)\n",
      "Requirement already satisfied: pywinpty>=1.1.0 in c:\\users\\oybek\\anaconda3\\lib\\site-packages (from terminado>=0.8.3->notebook>=4.4.1->widgetsnbextension~=3.5.0->ipywidgets<8.0,>=7.5->dataprep) (2.0.2)\n",
      "Requirement already satisfied: matplotlib in c:\\users\\oybek\\anaconda3\\lib\\site-packages (from wordcloud<2.0,>=1.8->dataprep) (3.5.1)\n",
      "Requirement already satisfied: idna>=2.0 in c:\\users\\oybek\\anaconda3\\lib\\site-packages (from yarl<2.0,>=1.0->aiohttp<4.0,>=3.6->dataprep) (3.3)\n",
      "Requirement already satisfied: argon2-cffi-bindings in c:\\users\\oybek\\anaconda3\\lib\\site-packages (from argon2-cffi->notebook>=4.4.1->widgetsnbextension~=3.5.0->ipywidgets<8.0,>=7.5->dataprep) (21.2.0)\n",
      "Requirement already satisfied: cffi>=1.0.1 in c:\\users\\oybek\\anaconda3\\lib\\site-packages (from argon2-cffi-bindings->argon2-cffi->notebook>=4.4.1->widgetsnbextension~=3.5.0->ipywidgets<8.0,>=7.5->dataprep) (1.15.0)\n",
      "Requirement already satisfied: pycparser in c:\\users\\oybek\\anaconda3\\lib\\site-packages (from cffi>=1.0.1->argon2-cffi-bindings->argon2-cffi->notebook>=4.4.1->widgetsnbextension~=3.5.0->ipywidgets<8.0,>=7.5->dataprep) (2.21)\n",
      "Requirement already satisfied: kiwisolver>=1.0.1 in c:\\users\\oybek\\anaconda3\\lib\\site-packages (from matplotlib->wordcloud<2.0,>=1.8->dataprep) (1.3.2)\n",
      "Requirement already satisfied: fonttools>=4.22.0 in c:\\users\\oybek\\anaconda3\\lib\\site-packages (from matplotlib->wordcloud<2.0,>=1.8->dataprep) (4.25.0)\n",
      "Requirement already satisfied: cycler>=0.10 in c:\\users\\oybek\\anaconda3\\lib\\site-packages (from matplotlib->wordcloud<2.0,>=1.8->dataprep) (0.11.0)\n",
      "Requirement already satisfied: defusedxml in c:\\users\\oybek\\anaconda3\\lib\\site-packages (from nbconvert->notebook>=4.4.1->widgetsnbextension~=3.5.0->ipywidgets<8.0,>=7.5->dataprep) (0.7.1)\n",
      "Requirement already satisfied: jupyterlab-pygments in c:\\users\\oybek\\anaconda3\\lib\\site-packages (from nbconvert->notebook>=4.4.1->widgetsnbextension~=3.5.0->ipywidgets<8.0,>=7.5->dataprep) (0.1.2)\n",
      "Requirement already satisfied: testpath in c:\\users\\oybek\\anaconda3\\lib\\site-packages (from nbconvert->notebook>=4.4.1->widgetsnbextension~=3.5.0->ipywidgets<8.0,>=7.5->dataprep) (0.5.0)\n",
      "Requirement already satisfied: nbclient<0.6.0,>=0.5.0 in c:\\users\\oybek\\anaconda3\\lib\\site-packages (from nbconvert->notebook>=4.4.1->widgetsnbextension~=3.5.0->ipywidgets<8.0,>=7.5->dataprep) (0.5.13)\n",
      "Requirement already satisfied: pandocfilters>=1.4.1 in c:\\users\\oybek\\anaconda3\\lib\\site-packages (from nbconvert->notebook>=4.4.1->widgetsnbextension~=3.5.0->ipywidgets<8.0,>=7.5->dataprep) (1.5.0)\n",
      "Requirement already satisfied: bleach in c:\\users\\oybek\\anaconda3\\lib\\site-packages (from nbconvert->notebook>=4.4.1->widgetsnbextension~=3.5.0->ipywidgets<8.0,>=7.5->dataprep) (4.1.0)\n",
      "Requirement already satisfied: entrypoints>=0.2.2 in c:\\users\\oybek\\anaconda3\\lib\\site-packages (from nbconvert->notebook>=4.4.1->widgetsnbextension~=3.5.0->ipywidgets<8.0,>=7.5->dataprep) (0.4)\n",
      "Requirement already satisfied: mistune<2,>=0.8.1 in c:\\users\\oybek\\anaconda3\\lib\\site-packages (from nbconvert->notebook>=4.4.1->widgetsnbextension~=3.5.0->ipywidgets<8.0,>=7.5->dataprep) (0.8.4)\n",
      "Requirement already satisfied: beautifulsoup4 in c:\\users\\oybek\\anaconda3\\lib\\site-packages (from nbconvert->notebook>=4.4.1->widgetsnbextension~=3.5.0->ipywidgets<8.0,>=7.5->dataprep) (4.11.1)\n",
      "Requirement already satisfied: soupsieve>1.2 in c:\\users\\oybek\\anaconda3\\lib\\site-packages (from beautifulsoup4->nbconvert->notebook>=4.4.1->widgetsnbextension~=3.5.0->ipywidgets<8.0,>=7.5->dataprep) (2.3.1)\n",
      "Requirement already satisfied: webencodings in c:\\users\\oybek\\anaconda3\\lib\\site-packages (from bleach->nbconvert->notebook>=4.4.1->widgetsnbextension~=3.5.0->ipywidgets<8.0,>=7.5->dataprep) (0.5.1)\n"
     ]
    }
   ],
   "source": [
    "!pip install autoviz\n",
    "!pip install dataprep"
   ]
  },
  {
   "cell_type": "code",
   "execution_count": 102,
   "id": "acddeba5",
   "metadata": {},
   "outputs": [],
   "source": [
    "from sklearn.ensemble import AdaBoostRegressor,GradientBoostingRegressor,RandomForestRegressor\n",
    "from sklearn.linear_model import LinearRegression\n",
    "from sklearn.tree import DecisionTreeRegressor\n",
    "from xgboost import XGBRegressor\n",
    "from sklearn.svm import SVR\n",
    "from sklearn.metrics import r2_score,mean_absolute_error,mean_squared_error\n",
    "from sklearn.model_selection import train_test_split,cross_val_score\n",
    "from sklearn.preprocessing import LabelEncoder\n",
    "\n",
    "from category_encoders import OneHotEncoder\n",
    "\n",
    "from sklearn.preprocessing import StandardScaler\n",
    "import matplotlib.pyplot as plt\n",
    "import numpy as np\n",
    "import pandas as pd\n",
    "import seaborn as sns\n",
    "import warnings\n",
    "warnings.filterwarnings(\"ignore\")"
   ]
  },
  {
   "cell_type": "markdown",
   "id": "14f80dc2",
   "metadata": {},
   "source": [
    "# Load Dataset"
   ]
  },
  {
   "cell_type": "code",
   "execution_count": 103,
   "id": "e7532592",
   "metadata": {},
   "outputs": [
    {
     "name": "stdout",
     "output_type": "stream",
     "text": [
      "There are 5 duplicates found in the dataset\n",
      "(1995, 3)\n"
     ]
    },
    {
     "data": {
      "text/html": [
       "<div>\n",
       "<style scoped>\n",
       "    .dataframe tbody tr th:only-of-type {\n",
       "        vertical-align: middle;\n",
       "    }\n",
       "\n",
       "    .dataframe tbody tr th {\n",
       "        vertical-align: top;\n",
       "    }\n",
       "\n",
       "    .dataframe thead th {\n",
       "        text-align: right;\n",
       "    }\n",
       "</style>\n",
       "<table border=\"1\" class=\"dataframe\">\n",
       "  <thead>\n",
       "    <tr style=\"text-align: right;\">\n",
       "      <th>Incident ID</th>\n",
       "      <th>2496342</th>\n",
       "      <th>2401801</th>\n",
       "      <th>2292239</th>\n",
       "      <th>2429319</th>\n",
       "      <th>2676410</th>\n",
       "    </tr>\n",
       "  </thead>\n",
       "  <tbody>\n",
       "    <tr>\n",
       "      <th>log10_total_casualties</th>\n",
       "      <td>0.0</td>\n",
       "      <td>0.0</td>\n",
       "      <td>0.477121</td>\n",
       "      <td>0.30103</td>\n",
       "      <td>0.0</td>\n",
       "    </tr>\n",
       "    <tr>\n",
       "      <th>location</th>\n",
       "      <td>Fort George G Meade (Fort Meade), Maryland</td>\n",
       "      <td>Hephzibah, Georgia</td>\n",
       "      <td>Manassas, Virginia</td>\n",
       "      <td>Des Moines, Iowa</td>\n",
       "      <td>Whiteland (New Whiteland), Indiana</td>\n",
       "    </tr>\n",
       "    <tr>\n",
       "      <th>incident_month</th>\n",
       "      <td>2023-05</td>\n",
       "      <td>2022-08</td>\n",
       "      <td>2022-01</td>\n",
       "      <td>2022-03</td>\n",
       "      <td>2023-09</td>\n",
       "    </tr>\n",
       "  </tbody>\n",
       "</table>\n",
       "</div>"
      ],
      "text/plain": [
       "Incident ID                                                2496342  \\\n",
       "log10_total_casualties                                         0.0   \n",
       "location                Fort George G Meade (Fort Meade), Maryland   \n",
       "incident_month                                             2023-05   \n",
       "\n",
       "Incident ID                        2401801             2292239  \\\n",
       "log10_total_casualties                 0.0            0.477121   \n",
       "location                Hephzibah, Georgia  Manassas, Virginia   \n",
       "incident_month                     2022-08             2022-01   \n",
       "\n",
       "Incident ID                      2429319                             2676410  \n",
       "log10_total_casualties           0.30103                                 0.0  \n",
       "location                Des Moines, Iowa  Whiteland (New Whiteland), Indiana  \n",
       "incident_month                   2022-03                             2023-09  "
      ]
     },
     "execution_count": 103,
     "metadata": {},
     "output_type": "execute_result"
    }
   ],
   "source": [
    "df = pd.read_csv('C:/Users/Oybek/OneDrive/Рабочий стол/Machine Learning/ML 1  Project Fuad-Oybek/School Shootings USA dataset.csv', index_col='Incident ID') # Reads the dataset from a CSV file into a Pandas DataFrame\n",
    "item0 = df.shape[0]  # Stores the initial number of rows in the DataFrame\n",
    "df = df.drop_duplicates()  # Removes duplicate rows from the DataFrame\n",
    "item1 = df.shape[0]  # Stores the number of rows after removing duplicates\n",
    "print(f\"There are {item0-item1} duplicates found in the dataset\")  # Prints the number of duplicates that were removed\n",
    "# create total number of çasualties as the sum of killed and injured victims\n",
    "df['total_casualties'] = df['Victims Killed'] + df['Victims Injured']\n",
    "# Exclude records with null casualties\n",
    "df = df[~df['total_casualties'].isnull()]\n",
    "# log10-transform the label\n",
    "df['log10_total_casualties'] = df['total_casualties'].apply(lambda x: np.log10(1+x))\n",
    "\n",
    "# combine city and state\n",
    "df['location'] = df['City Or County'] + ', ' + df['State']\n",
    "\n",
    "# extract year and month from datetime and transform to string\n",
    "df['incident_month'] = pd.to_datetime(df['Incident Date']).dt.to_period('M').astype(str)\n",
    "\n",
    "# Select only specific columns of interest\n",
    "selected_cols = ['log10_total_casualties', 'location', 'incident_month']\n",
    "df = df[selected_cols]\n",
    "\n",
    "print(df.shape)  # Prints the dimensions (rows and columns) of the filtered DataFrame\n",
    "df.sample(5).T  # Displays a random sample of 5 rows transposed for better visibility"
   ]
  },
  {
   "cell_type": "code",
   "execution_count": 104,
   "id": "3867afe2",
   "metadata": {},
   "outputs": [
    {
     "data": {
      "text/plain": [
       "Index(['log10_total_casualties', 'location', 'incident_month'], dtype='object')"
      ]
     },
     "execution_count": 104,
     "metadata": {},
     "output_type": "execute_result"
    }
   ],
   "source": [
    "df.columns"
   ]
  },
  {
   "cell_type": "code",
   "execution_count": 105,
   "id": "37a295b3",
   "metadata": {},
   "outputs": [
    {
     "name": "stdout",
     "output_type": "stream",
     "text": [
      "<class 'pandas.core.frame.DataFrame'>\n",
      "Int64Index: 1995 entries, 2241994 to 2310278\n",
      "Data columns (total 3 columns):\n",
      " #   Column                  Non-Null Count  Dtype  \n",
      "---  ------                  --------------  -----  \n",
      " 0   log10_total_casualties  1995 non-null   float64\n",
      " 1   location                1995 non-null   object \n",
      " 2   incident_month          1995 non-null   object \n",
      "dtypes: float64(1), object(2)\n",
      "memory usage: 62.3+ KB\n"
     ]
    }
   ],
   "source": [
    "df.info()"
   ]
  },
  {
   "cell_type": "code",
   "execution_count": 106,
   "id": "7dbe28a0",
   "metadata": {},
   "outputs": [
    {
     "data": {
      "text/plain": [
       "log10_total_casualties      10\n",
       "location                  1062\n",
       "incident_month              24\n",
       "dtype: int64"
      ]
     },
     "execution_count": 106,
     "metadata": {},
     "output_type": "execute_result"
    }
   ],
   "source": [
    "df.nunique()"
   ]
  },
  {
   "cell_type": "code",
   "execution_count": 107,
   "id": "8ec9396e",
   "metadata": {},
   "outputs": [
    {
     "data": {
      "text/html": [
       "<div>\n",
       "<style scoped>\n",
       "    .dataframe tbody tr th:only-of-type {\n",
       "        vertical-align: middle;\n",
       "    }\n",
       "\n",
       "    .dataframe tbody tr th {\n",
       "        vertical-align: top;\n",
       "    }\n",
       "\n",
       "    .dataframe thead th {\n",
       "        text-align: right;\n",
       "    }\n",
       "</style>\n",
       "<table border=\"1\" class=\"dataframe\">\n",
       "  <thead>\n",
       "    <tr style=\"text-align: right;\">\n",
       "      <th></th>\n",
       "      <th>count</th>\n",
       "      <th>mean</th>\n",
       "      <th>std</th>\n",
       "      <th>min</th>\n",
       "      <th>25%</th>\n",
       "      <th>50%</th>\n",
       "      <th>75%</th>\n",
       "      <th>max</th>\n",
       "    </tr>\n",
       "  </thead>\n",
       "  <tbody>\n",
       "    <tr>\n",
       "      <th>log10_total_casualties</th>\n",
       "      <td>1995.0</td>\n",
       "      <td>0.038295</td>\n",
       "      <td>0.127795</td>\n",
       "      <td>0.0</td>\n",
       "      <td>0.0</td>\n",
       "      <td>0.0</td>\n",
       "      <td>0.0</td>\n",
       "      <td>1.591065</td>\n",
       "    </tr>\n",
       "  </tbody>\n",
       "</table>\n",
       "</div>"
      ],
      "text/plain": [
       "                         count      mean       std  min  25%  50%  75%  \\\n",
       "log10_total_casualties  1995.0  0.038295  0.127795  0.0  0.0  0.0  0.0   \n",
       "\n",
       "                             max  \n",
       "log10_total_casualties  1.591065  "
      ]
     },
     "execution_count": 107,
     "metadata": {},
     "output_type": "execute_result"
    }
   ],
   "source": [
    "df.describe().T"
   ]
  },
  {
   "cell_type": "code",
   "execution_count": 108,
   "id": "46969e46",
   "metadata": {},
   "outputs": [
    {
     "data": {
      "text/plain": [
       "Louisville, Kentucky                33\n",
       "Nashville, Tennessee                25\n",
       "Columbus, Ohio                      24\n",
       "Baltimore, Maryland                 23\n",
       "Las Vegas, Nevada                   19\n",
       "Indianapolis, Indiana               17\n",
       "Philadelphia, Pennsylvania          16\n",
       "Houston, Texas                      16\n",
       "San Antonio, Texas                  16\n",
       "Chicago, Illinois                   15\n",
       "Tallahassee, Florida                13\n",
       "Milwaukee, Wisconsin                13\n",
       "Phoenix, Arizona                    13\n",
       "Charlotte, North Carolina           12\n",
       "Albuquerque, New Mexico             12\n",
       "Columbia, South Carolina            11\n",
       "Memphis, Tennessee                  10\n",
       "Toledo, Ohio                        10\n",
       "Tampa, Florida                      10\n",
       "Tulsa, Oklahoma                      9\n",
       "Atlanta, Georgia                     9\n",
       "Greensboro, North Carolina           9\n",
       "Richmond, Virginia                   9\n",
       "Washington, District of Columbia     8\n",
       "Arlington, Texas                     8\n",
       "Jacksonville, Florida                7\n",
       "Fort Wayne, Indiana                  7\n",
       "Miami, Florida                       7\n",
       "Augusta, Georgia                     7\n",
       "Saint Paul, Minnesota                7\n",
       "Name: location, dtype: int64"
      ]
     },
     "execution_count": 108,
     "metadata": {},
     "output_type": "execute_result"
    }
   ],
   "source": [
    "df['location'].value_counts().head(30)"
   ]
  },
  {
   "cell_type": "code",
   "execution_count": 109,
   "id": "6ad127f8",
   "metadata": {},
   "outputs": [
    {
     "data": {
      "text/plain": [
       "2022-09    155\n",
       "2022-10    135\n",
       "2023-03    126\n",
       "2023-02    123\n",
       "2022-08    121\n",
       "2023-04    110\n",
       "2023-01    104\n",
       "2023-08    103\n",
       "2023-09    102\n",
       "2023-10    102\n",
       "2022-05     87\n",
       "2022-11     86\n",
       "2022-04     84\n",
       "2022-03     79\n",
       "2023-11     75\n",
       "2023-05     74\n",
       "2022-12     56\n",
       "2023-06     55\n",
       "2022-06     52\n",
       "2022-02     39\n",
       "Name: incident_month, dtype: int64"
      ]
     },
     "execution_count": 109,
     "metadata": {},
     "output_type": "execute_result"
    }
   ],
   "source": [
    "df['incident_month'].value_counts().head(20)"
   ]
  },
  {
   "cell_type": "code",
   "execution_count": 110,
   "id": "99883b53",
   "metadata": {},
   "outputs": [],
   "source": [
    "train = pd.read_csv('C:/Users/Oybek/OneDrive/Рабочий стол/Machine Learning/ML 1  Project Fuad-Oybek/School Shootings USA dataset.csv')\n",
    "test = pd.read_csv('C:/Users/Oybek/OneDrive/Рабочий стол/Machine Learning/ML 1  Project Fuad-Oybek/School Shootings USA dataset.csv')"
   ]
  },
  {
   "cell_type": "code",
   "execution_count": 111,
   "id": "de769514",
   "metadata": {},
   "outputs": [
    {
     "data": {
      "text/html": [
       "<div>\n",
       "<style scoped>\n",
       "    .dataframe tbody tr th:only-of-type {\n",
       "        vertical-align: middle;\n",
       "    }\n",
       "\n",
       "    .dataframe tbody tr th {\n",
       "        vertical-align: top;\n",
       "    }\n",
       "\n",
       "    .dataframe thead th {\n",
       "        text-align: right;\n",
       "    }\n",
       "</style>\n",
       "<table border=\"1\" class=\"dataframe\">\n",
       "  <thead>\n",
       "    <tr style=\"text-align: right;\">\n",
       "      <th></th>\n",
       "      <th>Incident ID</th>\n",
       "      <th>Incident Date</th>\n",
       "      <th>State</th>\n",
       "      <th>City Or County</th>\n",
       "      <th>Address</th>\n",
       "      <th>Business/Location Name</th>\n",
       "      <th>Victims Killed</th>\n",
       "      <th>Victims Injured</th>\n",
       "      <th>Suspects Killed</th>\n",
       "      <th>Suspects Injured</th>\n",
       "      <th>Suspects Arrested</th>\n",
       "    </tr>\n",
       "  </thead>\n",
       "  <tbody>\n",
       "    <tr>\n",
       "      <th>0</th>\n",
       "      <td>2241994</td>\n",
       "      <td>25/02/2022</td>\n",
       "      <td>North Carolina</td>\n",
       "      <td>Charlotte</td>\n",
       "      <td>2219 Senior Dr</td>\n",
       "      <td>West Charlotte High School</td>\n",
       "      <td>0</td>\n",
       "      <td>0</td>\n",
       "      <td>0</td>\n",
       "      <td>0</td>\n",
       "      <td>0</td>\n",
       "    </tr>\n",
       "    <tr>\n",
       "      <th>1</th>\n",
       "      <td>2241810</td>\n",
       "      <td>25/02/2022</td>\n",
       "      <td>Florida</td>\n",
       "      <td>Niceville</td>\n",
       "      <td>800 E John Sims Pkwy</td>\n",
       "      <td>Niceville High School</td>\n",
       "      <td>0</td>\n",
       "      <td>0</td>\n",
       "      <td>0</td>\n",
       "      <td>0</td>\n",
       "      <td>1</td>\n",
       "    </tr>\n",
       "    <tr>\n",
       "      <th>2</th>\n",
       "      <td>2242123</td>\n",
       "      <td>25/02/2022</td>\n",
       "      <td>Florida</td>\n",
       "      <td>Miami</td>\n",
       "      <td>10655 SW 97th Ave</td>\n",
       "      <td>Miami Killian Senior High School</td>\n",
       "      <td>0</td>\n",
       "      <td>0</td>\n",
       "      <td>0</td>\n",
       "      <td>0</td>\n",
       "      <td>2</td>\n",
       "    </tr>\n",
       "    <tr>\n",
       "      <th>3</th>\n",
       "      <td>2245393</td>\n",
       "      <td>28/02/2022</td>\n",
       "      <td>California</td>\n",
       "      <td>Stockton</td>\n",
       "      <td>100 Doctor MLK Jr Blvd</td>\n",
       "      <td>Edison High School</td>\n",
       "      <td>0</td>\n",
       "      <td>0</td>\n",
       "      <td>0</td>\n",
       "      <td>0</td>\n",
       "      <td>1</td>\n",
       "    </tr>\n",
       "    <tr>\n",
       "      <th>4</th>\n",
       "      <td>2243754</td>\n",
       "      <td>28/02/2022</td>\n",
       "      <td>North Carolina</td>\n",
       "      <td>Parkton</td>\n",
       "      <td>400 N Green St</td>\n",
       "      <td>Parkton Elementary School</td>\n",
       "      <td>0</td>\n",
       "      <td>0</td>\n",
       "      <td>0</td>\n",
       "      <td>0</td>\n",
       "      <td>0</td>\n",
       "    </tr>\n",
       "    <tr>\n",
       "      <th>5</th>\n",
       "      <td>2243658</td>\n",
       "      <td>28/02/2022</td>\n",
       "      <td>Nevada</td>\n",
       "      <td>Reno</td>\n",
       "      <td>6055 Lancer St</td>\n",
       "      <td>Robert McQueen High School</td>\n",
       "      <td>0</td>\n",
       "      <td>0</td>\n",
       "      <td>0</td>\n",
       "      <td>0</td>\n",
       "      <td>1</td>\n",
       "    </tr>\n",
       "    <tr>\n",
       "      <th>6</th>\n",
       "      <td>2243833</td>\n",
       "      <td>28/02/2022</td>\n",
       "      <td>New York</td>\n",
       "      <td>Brooklyn</td>\n",
       "      <td>1745 Fulton St</td>\n",
       "      <td>Boys and Girls High School</td>\n",
       "      <td>0</td>\n",
       "      <td>1</td>\n",
       "      <td>0</td>\n",
       "      <td>0</td>\n",
       "      <td>0</td>\n",
       "    </tr>\n",
       "    <tr>\n",
       "      <th>7</th>\n",
       "      <td>2244462</td>\n",
       "      <td>01/03/2022</td>\n",
       "      <td>Texas</td>\n",
       "      <td>Colleyville</td>\n",
       "      <td>5401 Heritage Ave</td>\n",
       "      <td>Colleyville Heritage High School</td>\n",
       "      <td>0</td>\n",
       "      <td>0</td>\n",
       "      <td>0</td>\n",
       "      <td>0</td>\n",
       "      <td>2</td>\n",
       "    </tr>\n",
       "    <tr>\n",
       "      <th>8</th>\n",
       "      <td>2244265</td>\n",
       "      <td>01/03/2022</td>\n",
       "      <td>Florida</td>\n",
       "      <td>Land O Lakes (Land O' Lakes)</td>\n",
       "      <td>5334 Parkway Blvd</td>\n",
       "      <td>Pine View Middle School</td>\n",
       "      <td>0</td>\n",
       "      <td>0</td>\n",
       "      <td>0</td>\n",
       "      <td>0</td>\n",
       "      <td>1</td>\n",
       "    </tr>\n",
       "    <tr>\n",
       "      <th>9</th>\n",
       "      <td>2245542</td>\n",
       "      <td>02/03/2022</td>\n",
       "      <td>North Carolina</td>\n",
       "      <td>Charlotte</td>\n",
       "      <td>2001 Alleghany St</td>\n",
       "      <td>Harding University High School</td>\n",
       "      <td>0</td>\n",
       "      <td>0</td>\n",
       "      <td>0</td>\n",
       "      <td>0</td>\n",
       "      <td>0</td>\n",
       "    </tr>\n",
       "  </tbody>\n",
       "</table>\n",
       "</div>"
      ],
      "text/plain": [
       "   Incident ID Incident Date           State                City Or County  \\\n",
       "0      2241994    25/02/2022  North Carolina                     Charlotte   \n",
       "1      2241810    25/02/2022         Florida                     Niceville   \n",
       "2      2242123    25/02/2022         Florida                         Miami   \n",
       "3      2245393    28/02/2022      California                      Stockton   \n",
       "4      2243754    28/02/2022  North Carolina                       Parkton   \n",
       "5      2243658    28/02/2022          Nevada                          Reno   \n",
       "6      2243833    28/02/2022        New York                      Brooklyn   \n",
       "7      2244462    01/03/2022           Texas                   Colleyville   \n",
       "8      2244265    01/03/2022         Florida  Land O Lakes (Land O' Lakes)   \n",
       "9      2245542    02/03/2022  North Carolina                     Charlotte   \n",
       "\n",
       "                  Address            Business/Location Name  Victims Killed  \\\n",
       "0          2219 Senior Dr        West Charlotte High School               0   \n",
       "1    800 E John Sims Pkwy             Niceville High School               0   \n",
       "2       10655 SW 97th Ave  Miami Killian Senior High School               0   \n",
       "3  100 Doctor MLK Jr Blvd                Edison High School               0   \n",
       "4          400 N Green St         Parkton Elementary School               0   \n",
       "5          6055 Lancer St        Robert McQueen High School               0   \n",
       "6          1745 Fulton St        Boys and Girls High School               0   \n",
       "7       5401 Heritage Ave  Colleyville Heritage High School               0   \n",
       "8       5334 Parkway Blvd           Pine View Middle School               0   \n",
       "9       2001 Alleghany St    Harding University High School               0   \n",
       "\n",
       "   Victims Injured  Suspects Killed  Suspects Injured  Suspects Arrested  \n",
       "0                0                0                 0                  0  \n",
       "1                0                0                 0                  1  \n",
       "2                0                0                 0                  2  \n",
       "3                0                0                 0                  1  \n",
       "4                0                0                 0                  0  \n",
       "5                0                0                 0                  1  \n",
       "6                1                0                 0                  0  \n",
       "7                0                0                 0                  2  \n",
       "8                0                0                 0                  1  \n",
       "9                0                0                 0                  0  "
      ]
     },
     "execution_count": 111,
     "metadata": {},
     "output_type": "execute_result"
    }
   ],
   "source": [
    "train.head(10)"
   ]
  },
  {
   "cell_type": "markdown",
   "id": "54283362",
   "metadata": {},
   "source": [
    "## 1. Investigate target value distribution"
   ]
  },
  {
   "cell_type": "markdown",
   "id": "1b3c7eb6",
   "metadata": {},
   "source": [
    "We are taking **Total Casualties** as our target variable."
   ]
  },
  {
   "cell_type": "code",
   "execution_count": 114,
   "id": "6a1d222d",
   "metadata": {},
   "outputs": [
    {
     "name": "stdout",
     "output_type": "stream",
     "text": [
      "Columns 'Victims Killed' and 'Victims Injured' not found in the DataFrame.\n"
     ]
    }
   ],
   "source": [
    "if 'Victims Killed' in df.columns and 'Victims Injured' in df.columns:\n",
    "    # Create total number of casualties as the sum of killed and injured victims\n",
    "    df['total_casualties'] = df['Victims Killed'] + df['Victims Injured']\n",
    "    \n",
    "    # Exclude records with null casualties\n",
    "    df = df[~df['total_casualties'].isnull()]\n",
    "    \n",
    "    # Log10-transform the label\n",
    "    df['log10_total_casualties'] = df['total_casualties'].apply(lambda x: np.log10(1+x))\n",
    "else:\n",
    "    print(\"Columns 'Victims Killed' and 'Victims Injured' not found in the DataFrame.\")"
   ]
  },
  {
   "cell_type": "code",
   "execution_count": 115,
   "id": "bcd239ab",
   "metadata": {},
   "outputs": [
    {
     "name": "stdout",
     "output_type": "stream",
     "text": [
      "Incident ID\n",
      "2241994    0.000000\n",
      "2241810    0.000000\n",
      "2242123    0.000000\n",
      "2245393    0.000000\n",
      "2243754    0.000000\n",
      "             ...   \n",
      "2618358    0.903090\n",
      "2459150    0.778151\n",
      "2524577    0.954243\n",
      "2555459    0.845098\n",
      "2310278    1.591065\n",
      "Name: log10_total_casualties, Length: 1995, dtype: float64\n"
     ]
    }
   ],
   "source": [
    "print(df['log10_total_casualties'])"
   ]
  },
  {
   "cell_type": "code",
   "execution_count": 116,
   "id": "0711e856",
   "metadata": {},
   "outputs": [
    {
     "data": {
      "text/plain": [
       "count    1995.0\n",
       "mean        0.0\n",
       "std         0.1\n",
       "min         0.0\n",
       "25%         0.0\n",
       "50%         0.0\n",
       "75%         0.0\n",
       "max         1.6\n",
       "Name: log10_total_casualties, dtype: float64"
      ]
     },
     "execution_count": 116,
     "metadata": {},
     "output_type": "execute_result"
    }
   ],
   "source": [
    "df['log10_total_casualties'].describe().round(1)"
   ]
  },
  {
   "cell_type": "code",
   "execution_count": 117,
   "id": "06357016",
   "metadata": {},
   "outputs": [
    {
     "data": {
      "image/png": "[encoded data removed]",
      "text/plain": [
       "<Figure size 864x576 with 4 Axes>"
      ]
     },
     "metadata": {
      "needs_background": "light"
     },
     "output_type": "display_data"
    }
   ],
   "source": [
    "plt.figure(figsize=(12, 8))\n",
    "\n",
    "plt.subplot(2, 2, 1)\n",
    "df['log10_total_casualties'].hist(bins=50, label='log10_total_casualties', alpha=0.6, grid=False)\n",
    "plt.axvline(np.mean(df['log10_total_casualties']), ls='--', c='r', label=\"Mean\")\n",
    "plt.axvline(np.median(df['log10_total_casualties']), ls=':', c='g', label=\"Median\")\n",
    "plt.ylabel(\"Counts\")\n",
    "plt.title(\"log10_total_casualties Distribution\")\n",
    "plt.legend()\n",
    "plt.xscale('log')\n",
    "\n",
    "plt.subplot(2, 2, 2)\n",
    "plt.scatter(df['log10_total_casualties'], np.random.normal(7, 0.2, size=df.shape[0]), alpha=0.5)\n",
    "plt.title(\"log10_total_casualties Distribution\")\n",
    "plt.xscale('log')\n",
    "\n",
    "plt.subplot(2, 2, 3)\n",
    "sns.boxplot(y=\"log10_total_casualties\", data=df)\n",
    "plt.xscale('log')\n",
    "\n",
    "plt.subplot(2, 2, 4)\n",
    "sns.violinplot(y=\"log10_total_casualties\", data=df, inner=\"quartile\", bw=0.2)\n",
    "plt.xscale('log')\n",
    "\n",
    "plt.show()"
   ]
  },
  {
   "cell_type": "markdown",
   "id": "e2faf995",
   "metadata": {},
   "source": [
    "**These plots collectively offer a comprehensive understanding of the 'log10_total_casualties' distribution, its central tendency, spread, and potential outliers. The log scale is applied for better visualization, especially when dealing with data that spans several orders of magnitude.**"
   ]
  },
  {
   "cell_type": "markdown",
   "id": "03dd6a25",
   "metadata": {},
   "source": [
    "## 2. Investigate Data Types"
   ]
  },
  {
   "cell_type": "code",
   "execution_count": 118,
   "id": "050b8568",
   "metadata": {},
   "outputs": [
    {
     "name": "stdout",
     "output_type": "stream",
     "text": [
      "<class 'pandas.core.frame.DataFrame'>\n",
      "RangeIndex: 2000 entries, 0 to 1999\n",
      "Data columns (total 11 columns):\n",
      " #   Column                  Non-Null Count  Dtype \n",
      "---  ------                  --------------  ----- \n",
      " 0   Incident ID             2000 non-null   int64 \n",
      " 1   Incident Date           2000 non-null   object\n",
      " 2   State                   2000 non-null   object\n",
      " 3   City Or County          2000 non-null   object\n",
      " 4   Address                 1983 non-null   object\n",
      " 5   Business/Location Name  1951 non-null   object\n",
      " 6   Victims Killed          2000 non-null   int64 \n",
      " 7   Victims Injured         2000 non-null   int64 \n",
      " 8   Suspects Killed         2000 non-null   int64 \n",
      " 9   Suspects Injured        2000 non-null   int64 \n",
      " 10  Suspects Arrested       2000 non-null   int64 \n",
      "dtypes: int64(6), object(5)\n",
      "memory usage: 172.0+ KB\n"
     ]
    }
   ],
   "source": [
    "train.info()"
   ]
  },
  {
   "cell_type": "markdown",
   "id": "78dc289a",
   "metadata": {},
   "source": [
    "**This output provides information about a DataFrame with 2000 entries and 11 columns. Here's a brief explanation:**\n",
    "\n",
    "- Incident ID: A unique identifier for each incident (integer type).\n",
    "- Incident Date: The date of the incident (object type). It might be beneficial to convert it to a datetime type for time-related analyses.\n",
    "- State: The state where the incident occurred (object type).\n",
    "- City Or County: The city or county where the incident occurred (object type).\n",
    "- Address: The address of the incident. There are 1983 non-null entries, indicating some missing values (object type).\n",
    "- Business/Location Name: The name of the business or location. There are 1951 non-null entries, suggesting some missing values (object type).\n",
    "- Victims Killed: The number of victims killed (integer type).\n",
    "- Victims Injured: The number of victims injured (integer type).\n",
    "- Suspects Killed: The number of suspects killed (integer type).\n",
    "- Suspects Injured: The number of suspects injured (integer type).\n",
    "- Suspects Arrested: The number of suspects arrested (integer type)."
   ]
  },
  {
   "cell_type": "markdown",
   "id": "e1a19121",
   "metadata": {},
   "source": [
    "**Explore the categorical variables**"
   ]
  },
  {
   "cell_type": "code",
   "execution_count": 119,
   "id": "03359523",
   "metadata": {},
   "outputs": [
    {
     "data": {
      "text/plain": [
       "['Incident Date',\n",
       " 'State',\n",
       " 'City Or County',\n",
       " 'Address',\n",
       " 'Business/Location Name']"
      ]
     },
     "execution_count": 119,
     "metadata": {},
     "output_type": "execute_result"
    }
   ],
   "source": [
    "cat_vars = [var \n",
    "            for var in train.columns \n",
    "            if train[var].dtype == 'O']\n",
    "cat_vars"
   ]
  },
  {
   "cell_type": "markdown",
   "id": "b8194399",
   "metadata": {},
   "source": [
    " **Incident Date** is also categorical by definition, despite its numeric values. \n",
    " **Incident Date** should be added to the list of categorical variables"
   ]
  },
  {
   "cell_type": "code",
   "execution_count": 120,
   "id": "e715ffc9",
   "metadata": {},
   "outputs": [],
   "source": [
    "cat_vars = cat_vars + ['Incident Date']"
   ]
  },
  {
   "cell_type": "code",
   "execution_count": 121,
   "id": "2d100578",
   "metadata": {},
   "outputs": [
    {
     "data": {
      "text/plain": [
       "6"
      ]
     },
     "execution_count": 121,
     "metadata": {},
     "output_type": "execute_result"
    }
   ],
   "source": [
    "len(cat_vars)"
   ]
  },
  {
   "cell_type": "code",
   "execution_count": 122,
   "id": "8957a0f4",
   "metadata": {},
   "outputs": [
    {
     "name": "stdout",
     "output_type": "stream",
     "text": [
      "['Incident Date', 'State', 'City Or County', 'Address', 'Business/Location Name', 'Incident Date']\n",
      "Index(['Incident ID', 'Incident Date', 'State', 'City Or County', 'Address',\n",
      "       'Business/Location Name', 'Victims Killed', 'Victims Injured',\n",
      "       'Suspects Killed', 'Suspects Injured', 'Suspects Arrested'],\n",
      "      dtype='object')\n"
     ]
    }
   ],
   "source": [
    "# Print the list of categorical variables\n",
    "print(cat_vars)\n",
    "\n",
    "# Print the columns of the train DataFrame\n",
    "print(train.columns)\n"
   ]
  },
  {
   "cell_type": "code",
   "execution_count": 123,
   "id": "024b6bc9",
   "metadata": {},
   "outputs": [],
   "source": [
    "# Remove 'Incident Date' from the cat_vars list\n",
    "cat_vars.remove('Incident Date')\n",
    "\n",
    "# Convert specified categorical variables to object type\n",
    "train[cat_vars] = train[cat_vars].astype('O')\n"
   ]
  },
  {
   "cell_type": "code",
   "execution_count": 124,
   "id": "fb75bdc4",
   "metadata": {},
   "outputs": [],
   "source": [
    "train[cat_vars] = train[cat_vars].astype('O')"
   ]
  },
  {
   "cell_type": "code",
   "execution_count": 125,
   "id": "e5c84922",
   "metadata": {
    "scrolled": false
   },
   "outputs": [
    {
     "data": {
      "text/html": [
       "<div>\n",
       "<style scoped>\n",
       "    .dataframe tbody tr th:only-of-type {\n",
       "        vertical-align: middle;\n",
       "    }\n",
       "\n",
       "    .dataframe tbody tr th {\n",
       "        vertical-align: top;\n",
       "    }\n",
       "\n",
       "    .dataframe thead th {\n",
       "        text-align: right;\n",
       "    }\n",
       "</style>\n",
       "<table border=\"1\" class=\"dataframe\">\n",
       "  <thead>\n",
       "    <tr style=\"text-align: right;\">\n",
       "      <th></th>\n",
       "      <th>count</th>\n",
       "      <th>unique</th>\n",
       "      <th>top</th>\n",
       "      <th>freq</th>\n",
       "    </tr>\n",
       "  </thead>\n",
       "  <tbody>\n",
       "    <tr>\n",
       "      <th>State</th>\n",
       "      <td>2000</td>\n",
       "      <td>51</td>\n",
       "      <td>Texas</td>\n",
       "      <td>177</td>\n",
       "    </tr>\n",
       "    <tr>\n",
       "      <th>City Or County</th>\n",
       "      <td>2000</td>\n",
       "      <td>982</td>\n",
       "      <td>Louisville</td>\n",
       "      <td>34</td>\n",
       "    </tr>\n",
       "    <tr>\n",
       "      <th>Address</th>\n",
       "      <td>1983</td>\n",
       "      <td>1771</td>\n",
       "      <td>300 College Ave</td>\n",
       "      <td>7</td>\n",
       "    </tr>\n",
       "    <tr>\n",
       "      <th>Business/Location Name</th>\n",
       "      <td>1951</td>\n",
       "      <td>1682</td>\n",
       "      <td>Central High School</td>\n",
       "      <td>9</td>\n",
       "    </tr>\n",
       "    <tr>\n",
       "      <th>Incident Date</th>\n",
       "      <td>2000</td>\n",
       "      <td>443</td>\n",
       "      <td>25/08/2023</td>\n",
       "      <td>14</td>\n",
       "    </tr>\n",
       "  </tbody>\n",
       "</table>\n",
       "</div>"
      ],
      "text/plain": [
       "                       count unique                  top freq\n",
       "State                   2000     51                Texas  177\n",
       "City Or County          2000    982           Louisville   34\n",
       "Address                 1983   1771      300 College Ave    7\n",
       "Business/Location Name  1951   1682  Central High School    9\n",
       "Incident Date           2000    443           25/08/2023   14"
      ]
     },
     "execution_count": 125,
     "metadata": {},
     "output_type": "execute_result"
    }
   ],
   "source": [
    "train[cat_vars].describe().T"
   ]
  },
  {
   "cell_type": "markdown",
   "id": "04539f82",
   "metadata": {},
   "source": [
    "**Explore the continues variables**"
   ]
  },
  {
   "cell_type": "code",
   "execution_count": 126,
   "id": "3ab119c8",
   "metadata": {},
   "outputs": [
    {
     "data": {
      "text/html": [
       "<div>\n",
       "<style scoped>\n",
       "    .dataframe tbody tr th:only-of-type {\n",
       "        vertical-align: middle;\n",
       "    }\n",
       "\n",
       "    .dataframe tbody tr th {\n",
       "        vertical-align: top;\n",
       "    }\n",
       "\n",
       "    .dataframe thead th {\n",
       "        text-align: right;\n",
       "    }\n",
       "</style>\n",
       "<table border=\"1\" class=\"dataframe\">\n",
       "  <thead>\n",
       "    <tr style=\"text-align: right;\">\n",
       "      <th></th>\n",
       "      <th>count</th>\n",
       "      <th>mean</th>\n",
       "      <th>std</th>\n",
       "      <th>min</th>\n",
       "      <th>25%</th>\n",
       "      <th>50%</th>\n",
       "      <th>75%</th>\n",
       "      <th>max</th>\n",
       "    </tr>\n",
       "  </thead>\n",
       "  <tbody>\n",
       "    <tr>\n",
       "      <th>Incident ID</th>\n",
       "      <td>2000.0</td>\n",
       "      <td>2.506427e+06</td>\n",
       "      <td>143002.254750</td>\n",
       "      <td>2241810.0</td>\n",
       "      <td>2414790.25</td>\n",
       "      <td>2505285.5</td>\n",
       "      <td>2596520.0</td>\n",
       "      <td>2765572.0</td>\n",
       "    </tr>\n",
       "    <tr>\n",
       "      <th>Victims Killed</th>\n",
       "      <td>2000.0</td>\n",
       "      <td>5.250000e-02</td>\n",
       "      <td>0.533747</td>\n",
       "      <td>0.0</td>\n",
       "      <td>0.00</td>\n",
       "      <td>0.0</td>\n",
       "      <td>0.0</td>\n",
       "      <td>21.0</td>\n",
       "    </tr>\n",
       "    <tr>\n",
       "      <th>Victims Injured</th>\n",
       "      <td>2000.0</td>\n",
       "      <td>1.220000e-01</td>\n",
       "      <td>0.605227</td>\n",
       "      <td>0.0</td>\n",
       "      <td>0.00</td>\n",
       "      <td>0.0</td>\n",
       "      <td>0.0</td>\n",
       "      <td>17.0</td>\n",
       "    </tr>\n",
       "    <tr>\n",
       "      <th>Suspects Killed</th>\n",
       "      <td>2000.0</td>\n",
       "      <td>9.000000e-03</td>\n",
       "      <td>0.094464</td>\n",
       "      <td>0.0</td>\n",
       "      <td>0.00</td>\n",
       "      <td>0.0</td>\n",
       "      <td>0.0</td>\n",
       "      <td>1.0</td>\n",
       "    </tr>\n",
       "    <tr>\n",
       "      <th>Suspects Injured</th>\n",
       "      <td>2000.0</td>\n",
       "      <td>1.300000e-02</td>\n",
       "      <td>0.129767</td>\n",
       "      <td>0.0</td>\n",
       "      <td>0.00</td>\n",
       "      <td>0.0</td>\n",
       "      <td>0.0</td>\n",
       "      <td>2.0</td>\n",
       "    </tr>\n",
       "    <tr>\n",
       "      <th>Suspects Arrested</th>\n",
       "      <td>2000.0</td>\n",
       "      <td>8.550000e-01</td>\n",
       "      <td>0.692253</td>\n",
       "      <td>0.0</td>\n",
       "      <td>0.00</td>\n",
       "      <td>1.0</td>\n",
       "      <td>1.0</td>\n",
       "      <td>10.0</td>\n",
       "    </tr>\n",
       "  </tbody>\n",
       "</table>\n",
       "</div>"
      ],
      "text/plain": [
       "                    count          mean            std        min         25%  \\\n",
       "Incident ID        2000.0  2.506427e+06  143002.254750  2241810.0  2414790.25   \n",
       "Victims Killed     2000.0  5.250000e-02       0.533747        0.0        0.00   \n",
       "Victims Injured    2000.0  1.220000e-01       0.605227        0.0        0.00   \n",
       "Suspects Killed    2000.0  9.000000e-03       0.094464        0.0        0.00   \n",
       "Suspects Injured   2000.0  1.300000e-02       0.129767        0.0        0.00   \n",
       "Suspects Arrested  2000.0  8.550000e-01       0.692253        0.0        0.00   \n",
       "\n",
       "                         50%        75%        max  \n",
       "Incident ID        2505285.5  2596520.0  2765572.0  \n",
       "Victims Killed           0.0        0.0       21.0  \n",
       "Victims Injured          0.0        0.0       17.0  \n",
       "Suspects Killed          0.0        0.0        1.0  \n",
       "Suspects Injured         0.0        0.0        2.0  \n",
       "Suspects Arrested        1.0        1.0       10.0  "
      ]
     },
     "execution_count": 126,
     "metadata": {},
     "output_type": "execute_result"
    }
   ],
   "source": [
    "stat_cont = train.describe(exclude=['object']).T\n",
    "stat_cont"
   ]
  },
  {
   "cell_type": "code",
   "execution_count": 127,
   "id": "054c8531",
   "metadata": {},
   "outputs": [
    {
     "data": {
      "text/html": [
       "<div>\n",
       "<style scoped>\n",
       "    .dataframe tbody tr th:only-of-type {\n",
       "        vertical-align: middle;\n",
       "    }\n",
       "\n",
       "    .dataframe tbody tr th {\n",
       "        vertical-align: top;\n",
       "    }\n",
       "\n",
       "    .dataframe thead th {\n",
       "        text-align: right;\n",
       "    }\n",
       "</style>\n",
       "<table border=\"1\" class=\"dataframe\">\n",
       "  <thead>\n",
       "    <tr style=\"text-align: right;\">\n",
       "      <th></th>\n",
       "      <th>Incident ID</th>\n",
       "      <th>Victims Killed</th>\n",
       "      <th>Victims Injured</th>\n",
       "      <th>Suspects Killed</th>\n",
       "      <th>Suspects Injured</th>\n",
       "      <th>Suspects Arrested</th>\n",
       "    </tr>\n",
       "  </thead>\n",
       "  <tbody>\n",
       "    <tr>\n",
       "      <th>0</th>\n",
       "      <td>2241994</td>\n",
       "      <td>0</td>\n",
       "      <td>0</td>\n",
       "      <td>0</td>\n",
       "      <td>0</td>\n",
       "      <td>0</td>\n",
       "    </tr>\n",
       "    <tr>\n",
       "      <th>1</th>\n",
       "      <td>2241810</td>\n",
       "      <td>0</td>\n",
       "      <td>0</td>\n",
       "      <td>0</td>\n",
       "      <td>0</td>\n",
       "      <td>1</td>\n",
       "    </tr>\n",
       "    <tr>\n",
       "      <th>2</th>\n",
       "      <td>2242123</td>\n",
       "      <td>0</td>\n",
       "      <td>0</td>\n",
       "      <td>0</td>\n",
       "      <td>0</td>\n",
       "      <td>2</td>\n",
       "    </tr>\n",
       "    <tr>\n",
       "      <th>3</th>\n",
       "      <td>2245393</td>\n",
       "      <td>0</td>\n",
       "      <td>0</td>\n",
       "      <td>0</td>\n",
       "      <td>0</td>\n",
       "      <td>1</td>\n",
       "    </tr>\n",
       "    <tr>\n",
       "      <th>4</th>\n",
       "      <td>2243754</td>\n",
       "      <td>0</td>\n",
       "      <td>0</td>\n",
       "      <td>0</td>\n",
       "      <td>0</td>\n",
       "      <td>0</td>\n",
       "    </tr>\n",
       "  </tbody>\n",
       "</table>\n",
       "</div>"
      ],
      "text/plain": [
       "   Incident ID  Victims Killed  Victims Injured  Suspects Killed  \\\n",
       "0      2241994               0                0                0   \n",
       "1      2241810               0                0                0   \n",
       "2      2242123               0                0                0   \n",
       "3      2245393               0                0                0   \n",
       "4      2243754               0                0                0   \n",
       "\n",
       "   Suspects Injured  Suspects Arrested  \n",
       "0                 0                  0  \n",
       "1                 0                  1  \n",
       "2                 0                  2  \n",
       "3                 0                  1  \n",
       "4                 0                  0  "
      ]
     },
     "execution_count": 127,
     "metadata": {},
     "output_type": "execute_result"
    }
   ],
   "source": [
    "# Drop all categorical features for exploring continues variables\n",
    "tr_cont = train.copy()\n",
    "\n",
    "for i in tr_cont.columns:\n",
    "    if tr_cont[i].dtype==\"object\":\n",
    "        tr_cont.drop(i, axis=1, inplace=True)\n",
    "tr_cont.head()"
   ]
  },
  {
   "cell_type": "code",
   "execution_count": 128,
   "id": "20a2409c",
   "metadata": {},
   "outputs": [
    {
     "data": {
      "image/png": "[encoded data removed]",
      "text/plain": [
       "<Figure size 720x720 with 2 Axes>"
      ]
     },
     "metadata": {
      "needs_background": "light"
     },
     "output_type": "display_data"
    }
   ],
   "source": [
    "corr = tr_cont.corr()\n",
    "plt.figure(figsize=(10,10))\n",
    "sns.heatmap(corr, annot=True, vmin=-1.0, cmap='mako')\n",
    "plt.title('Correlation Heatmap')\n",
    "plt.show()"
   ]
  },
  {
   "cell_type": "markdown",
   "id": "d2b3a8df",
   "metadata": {},
   "source": [
    "**The correlation heatmap visually depicts the pairwise relationships between continuous variables in the tr_cont DataFrame. Warm colors signify positive correlations, cool colors indicate negative correlations, and the numerical annotations reveal the strength of these relationships, aiding in identifying patterns and dependencies among the variables. The plot is a valuable tool for assessing the extent to which variables move together or in opposite directions.**"
   ]
  },
  {
   "cell_type": "code",
   "execution_count": 129,
   "id": "708afc7d",
   "metadata": {},
   "outputs": [
    {
     "data": {
      "image/png": "[encoded data removed]",
      "text/plain": [
       "<Figure size 1440x1800 with 3 Axes>"
      ]
     },
     "metadata": {
      "needs_background": "light"
     },
     "output_type": "display_data"
    }
   ],
   "source": [
    "import matplotlib.pyplot as plt\n",
    "import seaborn as sns\n",
    "\n",
    "# Plot histograms for continuous features\n",
    "plt.figure(figsize=(20,25))\n",
    "col = 1\n",
    "\n",
    "# List of columns to exclude\n",
    "exclude_cols = [\"Incident ID\", \"Incident Date\", \"State\", \"City Or County\", \"Address\",\n",
    "                \"Business/Location Name\", \"Victims Killed\", \"Victims Injured\",\n",
    "                \"Suspects Killed\", \"Suspects Injured\", \"Suspects Arrested\"]\n",
    "\n",
    "for i in df.columns:\n",
    "    if i not in exclude_cols:\n",
    "        if col < 21:\n",
    "            plt.subplot(4, 5, col)\n",
    "            sns.histplot(x=df[i], kde=False)\n",
    "            plt.title(\"Histogram for %s\" % (i))\n",
    "        col += 1\n",
    "\n",
    "plt.show()\n"
   ]
  },
  {
   "cell_type": "markdown",
   "id": "5c9d19e3",
   "metadata": {},
   "source": [
    "**The provided plots display histograms for selected continuous features in the DataFrame df, excluding specified columns. Each subplot represents the distribution of values for a particular feature, allowing visual inspection of the data's central tendencies, spread, and shape. These histograms offer insights into the frequency distribution of key variables, aiding in the exploration of their underlying patterns and characteristics.**"
   ]
  },
  {
   "cell_type": "code",
   "execution_count": 130,
   "id": "b7757bac",
   "metadata": {},
   "outputs": [
    {
     "data": {
      "image/png": "[encoded data removed]",
      "text/plain": [
       "<Figure size 1440x1800 with 6 Axes>"
      ]
     },
     "metadata": {
      "needs_background": "light"
     },
     "output_type": "display_data"
    }
   ],
   "source": [
    "%matplotlib inline\n",
    "# Plot histograms for continuous features\n",
    "plt.figure(figsize=(20,25))\n",
    "col = 1\n",
    "\n",
    "for i in tr_cont.columns:\n",
    "    \n",
    "        if col<21:\n",
    "            plt.subplot(4,5,col)\n",
    "            sns.distplot(x=tr_cont[i], kde=False)\n",
    "            plt.title(\"Histogram for %s\" % (i))\n",
    "        col += 1\n",
    "        \n",
    "        "
   ]
  },
  {
   "cell_type": "markdown",
   "id": "20bb1d73",
   "metadata": {},
   "source": [
    "**The code generates histograms for continuous features in the DataFrame tr_cont, with each subplot representing the distribution of values for a specific feature. The distplot function from the Seaborn library is used to visualize the frequency distribution of each selected variable, providing insights into their data distributions and characteristics. The resulting plots aid in understanding the central tendencies and variability of the features in the dataset.**"
   ]
  },
  {
   "cell_type": "markdown",
   "id": "2e8f53d0",
   "metadata": {},
   "source": [
    "## 3. Data Cleaning"
   ]
  },
  {
   "cell_type": "code",
   "execution_count": 131,
   "id": "b8b894fa",
   "metadata": {},
   "outputs": [
    {
     "data": {
      "text/plain": [
       "Business/Location Name    49\n",
       "Address                   17\n",
       "Incident ID                0\n",
       "Incident Date              0\n",
       "State                      0\n",
       "City Or County             0\n",
       "Victims Killed             0\n",
       "Victims Injured            0\n",
       "Suspects Killed            0\n",
       "Suspects Injured           0\n",
       "Suspects Arrested          0\n",
       "dtype: int64"
      ]
     },
     "execution_count": 131,
     "metadata": {},
     "output_type": "execute_result"
    }
   ],
   "source": [
    "# Check the missing values for train dataset\n",
    "train.isnull().sum().sort_values(ascending=False).head(20)"
   ]
  },
  {
   "cell_type": "code",
   "execution_count": 132,
   "id": "276572d6",
   "metadata": {},
   "outputs": [
    {
     "data": {
      "text/plain": [
       "Business/Location Name    49\n",
       "Address                   17\n",
       "Incident ID                0\n",
       "Incident Date              0\n",
       "State                      0\n",
       "City Or County             0\n",
       "Victims Killed             0\n",
       "Victims Injured            0\n",
       "Suspects Killed            0\n",
       "Suspects Injured           0\n",
       "Suspects Arrested          0\n",
       "dtype: int64"
      ]
     },
     "execution_count": 132,
     "metadata": {},
     "output_type": "execute_result"
    }
   ],
   "source": [
    "# Check the missing values for test dataset\n",
    "test.isnull().sum().sort_values(ascending=False).head(35)"
   ]
  },
  {
   "cell_type": "markdown",
   "id": "c55e4c83",
   "metadata": {},
   "source": [
    "**Note:** ***For the shooting dataset, there are some variables with missing values. Notably, the 'Business/Location Name' and 'Address' columns have 49 and 17 missing values, respectively. However, other key columns like 'Incident ID,' 'Incident Date,' 'State,' 'City Or County,' 'Victims Killed,' 'Victims Injured,' 'Suspects Killed,' 'Suspects Injured,' and 'Suspects Arrested' have complete data.*** **"
   ]
  },
  {
   "cell_type": "code",
   "execution_count": 176,
   "id": "fe83d3eb",
   "metadata": {},
   "outputs": [
    {
     "name": "stdout",
     "output_type": "stream",
     "text": [
      "Column 'Business/Location Name' not found in the DataFrame.\n"
     ]
    }
   ],
   "source": [
    "# Drop 'Business/Location Name' column if it exists\n",
    "if 'Business/Location Name' in df.columns:\n",
    "    df.drop(['Business/Location Name'], axis=1, inplace=True)\n",
    "else:\n",
    "    print(\"Column 'Business/Location Name' not found in the DataFrame.\")\n"
   ]
  },
  {
   "cell_type": "markdown",
   "id": "8706061c",
   "metadata": {},
   "source": [
    "**Fill the missing variables for the categorical variables:**"
   ]
  },
  {
   "cell_type": "code",
   "execution_count": 183,
   "id": "151b59b9",
   "metadata": {},
   "outputs": [
    {
     "name": "stdout",
     "output_type": "stream",
     "text": [
      "Index(['log10_total_casualties', 'location', 'incident_month'], dtype='object')\n",
      "Column 'City Or County' not found in the DataFrame.\n",
      "Column 'Address' not found in the DataFrame.\n"
     ]
    }
   ],
   "source": [
    "# Display the column names in the DataFrame\n",
    "print(df.columns)\n",
    "\n",
    "# Iterate through the columns and fill missing values with \"NA\"\n",
    "for column in obj_NA:\n",
    "    # Use strip() to remove leading/trailing spaces from column names\n",
    "    clean_column_name = column.strip()\n",
    "    \n",
    "    # Check if the cleaned column name exists in the DataFrame\n",
    "    if clean_column_name in df.columns:\n",
    "        df[clean_column_name].fillna(\"NA\", inplace=True)\n",
    "    else:\n",
    "        print(f\"Column '{clean_column_name}' not found in the DataFrame.\")\n"
   ]
  },
  {
   "cell_type": "code",
   "execution_count": 184,
   "id": "d74d8bcc",
   "metadata": {},
   "outputs": [
    {
     "name": "stdout",
     "output_type": "stream",
     "text": [
      "Column 'City Or County' not found in the DataFrame.\n",
      "Column 'Address' not found in the DataFrame.\n"
     ]
    }
   ],
   "source": [
    "# Replace missing values for specific columns in the shooting dataset\n",
    "obj_mode = [\"City Or County\", \"Address\"]\n",
    "\n",
    "# Handle specific replacements for columns\n",
    "for column in obj_mode:\n",
    "    if column in df.columns:\n",
    "        # If there are specific replacements for a column, add them here\n",
    "        # For example, if you need to replace \"NA\" in the 'City Or County' column:\n",
    "        # df[column] = df[column].replace(\"NA\", \"New Value\")\n",
    "        df[column].fillna(df[column].mode()[0], inplace=True)\n",
    "    else:\n",
    "        print(f\"Column '{column}' not found in the DataFrame.\")\n"
   ]
  },
  {
   "cell_type": "code",
   "execution_count": 195,
   "id": "4a814d95",
   "metadata": {},
   "outputs": [
    {
     "name": "stdout",
     "output_type": "stream",
     "text": [
      "Index(['log10_total_casualties', 'location', 'incident_month'], dtype='object')\n",
      "Column 'Address' not found in the DataFrame.\n"
     ]
    }
   ],
   "source": [
    "# Display the column names in the DataFrame\n",
    "print(df.columns)\n",
    "\n",
    "# Check if 'Address' is present in the DataFrame\n",
    "if 'Address' in df.columns:\n",
    "    # Fill in missing values for the 'Address' feature with \"Unknown\"\n",
    "    df[\"Address\"].fillna(\"Unknown\", inplace=True)\n",
    "else:\n",
    "    print(\"Column 'Address' not found in the DataFrame.\")\n"
   ]
  },
  {
   "cell_type": "code",
   "execution_count": 196,
   "id": "e523b899",
   "metadata": {},
   "outputs": [
    {
     "name": "stdout",
     "output_type": "stream",
     "text": [
      "Index(['log10_total_casualties', 'location', 'incident_month'], dtype='object')\n"
     ]
    }
   ],
   "source": [
    "print(df.columns)"
   ]
  },
  {
   "cell_type": "code",
   "execution_count": 197,
   "id": "ffae35c9",
   "metadata": {},
   "outputs": [],
   "source": [
    "columns_with_missing_values = ['log10_total_casualties', 'location', 'incident_month']\n",
    "\n",
    "# Fill in missing values for the specified columns with \"Unknown\"\n",
    "for column in columns_with_missing_values:\n",
    "    df[column].fillna(\"Unknown\", inplace=True)\n"
   ]
  },
  {
   "cell_type": "markdown",
   "id": "ffc10e4a",
   "metadata": {},
   "source": [
    "**Clean continues variables:**\n",
    "- Fill missing variables"
   ]
  },
  {
   "cell_type": "code",
   "execution_count": 198,
   "id": "5062adae",
   "metadata": {},
   "outputs": [
    {
     "name": "stdout",
     "output_type": "stream",
     "text": [
      "Index(['Incident ID', 'Incident Date', 'State', 'City Or County', 'Address',\n",
      "       'Business/Location Name', 'Victims Killed', 'Victims Injured',\n",
      "       'Suspects Killed', 'Suspects Injured', 'Suspects Arrested'],\n",
      "      dtype='object')\n"
     ]
    }
   ],
   "source": [
    "print(train.columns)\n"
   ]
  },
  {
   "cell_type": "code",
   "execution_count": 199,
   "id": "04ea4f29",
   "metadata": {},
   "outputs": [],
   "source": [
    "# Fill in missing values for the 'Victims Killed' feature with the median\n",
    "train[\"Victims Killed\"].fillna(train[\"Victims Killed\"].median(), inplace=True)\n",
    "test[\"Victims Killed\"].fillna(test[\"Victims Killed\"].median(), inplace=True)\n",
    "\n",
    "# Fill in missing values for the 'Address' feature with a placeholder value like \"Unknown\"\n",
    "train[\"Address\"].fillna(\"Unknown\", inplace=True)\n",
    "test[\"Address\"].fillna(\"Unknown\", inplace=True)"
   ]
  },
  {
   "cell_type": "code",
   "execution_count": 139,
   "id": "feac5a08",
   "metadata": {
    "scrolled": true
   },
   "outputs": [],
   "source": [
    "# Fill in missing values for the Suspects Killed\",\"Suspects Injured\",\"Suspects Arrested features\n",
    "obj_mode = [\"Suspects Killed\",\"Suspects Injured\",\"Suspects Arrested\"]\n",
    "\n",
    "for i in obj_mode:\n",
    "    test[i].fillna(test[i].mode()[0], inplace=True)"
   ]
  },
  {
   "cell_type": "code",
   "execution_count": 140,
   "id": "c42d08ae",
   "metadata": {},
   "outputs": [],
   "source": [
    "# Fill in missing values for the Incident ID feature\n",
    "train[\"Incident ID\"] = train[\"Incident ID\"].combine_first(train[\"Incident Date\"])\n",
    "test[\"Incident ID\"] = test[\"Incident ID\"].combine_first(test[\"Incident Date\"])"
   ]
  },
  {
   "cell_type": "code",
   "execution_count": 141,
   "id": "c5420796",
   "metadata": {},
   "outputs": [],
   "source": [
    "# Converting dtype to 'int64'\n",
    "int_list = [\"Victims Killed\", \"Victims Injured\", \"Suspects Killed\", \"Suspects Injured\", \"Suspects Arrested\"]\n",
    "\n",
    "for i in int_list:\n",
    "    train[i] = train[i].astype(\"int64\")\n",
    "    test[i] = test[i].astype(\"int64\")\n"
   ]
  },
  {
   "cell_type": "code",
   "execution_count": 142,
   "id": "1235460f",
   "metadata": {},
   "outputs": [
    {
     "data": {
      "text/plain": [
       "(2000, 11)"
      ]
     },
     "execution_count": 142,
     "metadata": {},
     "output_type": "execute_result"
    }
   ],
   "source": [
    "train.shape"
   ]
  },
  {
   "cell_type": "markdown",
   "id": "dcb49104",
   "metadata": {},
   "source": [
    "# Feature Selection"
   ]
  },
  {
   "cell_type": "markdown",
   "id": "0ca996df",
   "metadata": {},
   "source": [
    "## 1. Correlation Analysis"
   ]
  },
  {
   "cell_type": "code",
   "execution_count": 143,
   "id": "713de4fa",
   "metadata": {},
   "outputs": [
    {
     "name": "stdout",
     "output_type": "stream",
     "text": [
      "Most Postive Correlations:\n",
      " Suspects Arrested   -0.026773\n",
      "Incident ID         -0.014790\n",
      "Suspects Injured    -0.002636\n",
      "Suspects Killed      0.337883\n",
      "Victims Injured      0.666183\n",
      "Victims Killed       1.000000\n",
      "Name: Victims Killed, dtype: float64\n",
      "\n",
      "Most Negative Correlations:\n",
      " Suspects Arrested   -0.026773\n",
      "Incident ID         -0.014790\n",
      "Suspects Injured    -0.002636\n",
      "Suspects Killed      0.337883\n",
      "Victims Injured      0.666183\n",
      "Victims Killed       1.000000\n",
      "Name: Victims Killed, dtype: float64\n"
     ]
    }
   ],
   "source": [
    "# Find correlation with the target and sort\n",
    "correlations = train.corr()['Victims Killed'].sort_values()\n",
    "\n",
    "# Display correlations\n",
    "print('Most Postive Correlations:\\n', correlations.tail(10))\n",
    "print('\\nMost Negative Correlations:\\n', correlations.head(10))"
   ]
  },
  {
   "cell_type": "markdown",
   "id": "a35971dd",
   "metadata": {},
   "source": [
    "**Most Positive Correlations:**\n",
    "\n",
    "***Victims Injured (0.666183): There is a strong positive correlation (close to 1), indicating that as the number of victims killed increases, the number of victims injured also tends to increase.\n",
    "Suspects Killed (0.337883): There is a moderate positive correlation, suggesting that an increase in the number of victims killed is associated with a moderate increase in the number of suspects killed.\n",
    "Most Negative Correlations:***\n",
    "\n",
    "***Suspects Arrested (-0.026773): There is a very weak negative correlation. This suggests a very slight tendency for the number of suspects arrested to decrease as the number of victims killed increases, but the correlation is close to zero.\n",
    "Incident ID and Suspects Injured: These columns have negligible correlation with 'Victims Killed'.\n",
    "It's important to note that correlation does not imply causation. A high correlation between two variables does not necessarily mean that one causes the other. Correlation only measures the strength and direction of a linear relationship.***\n",
    "\n",
    "***In your case, the correlation analysis suggests relationships between 'Victims Killed' and other variables, but further analysis and domain knowledge are needed to understand the underlying factors driving these correlations.***"
   ]
  },
  {
   "cell_type": "markdown",
   "id": "d14cc5b1",
   "metadata": {},
   "source": [
    "# State vs City/County vs Victims Killed vs "
   ]
  },
  {
   "cell_type": "code",
   "execution_count": 144,
   "id": "10880a83",
   "metadata": {},
   "outputs": [
    {
     "data": {
      "image/png": "[encoded data removed]",
      "text/plain": [
       "<Figure size 2160x1800 with 3 Axes>"
      ]
     },
     "metadata": {
      "needs_background": "light"
     },
     "output_type": "display_data"
    }
   ],
   "source": [
    "import matplotlib.pyplot as plt\n",
    "\n",
    "plt.figure(figsize=(30, 25))\n",
    "labels = [\"State\", \"Victims Killed\", \"Victims Injured\"]\n",
    "descriptions = [\"Suspects Killed\", \"Suspects Injured\", \"Suspects Arrested\"]\n",
    "col = 1\n",
    "\n",
    "for label, description in zip(labels, descriptions):\n",
    "    if col < 18:\n",
    "        plt.subplot(3, 6, col)\n",
    "        plt.scatter(x=train[label], y=train[\"Victims Killed\"])\n",
    "        plt.title(description, fontsize=18) \n",
    "        col = col + 1\n",
    "\n",
    "plt.show()\n"
   ]
  },
  {
   "cell_type": "markdown",
   "id": "90caf6e6",
   "metadata": {},
   "source": [
    "- State vs Victims Killed: The scatter plot suggests that there might be some variation in the number of victims killed based on the state where the incident occurred. It seems that some states have higher numbers of victims killed than others.\n",
    "\n",
    "- Victims Injured vs Victims Killed: This plot shows a positive correlation, indicating that as the number of victims injured increases, the number of victims killed also tends to increase. This is expected, as more severe incidents may result in both higher injuries and fatalities.\n",
    "\n",
    "- Suspects Killed, Suspects Injured, Suspects Arrested vs Victims Killed: These plots don't seem to show a clear correlation between the number of suspects killed, suspects injured, or suspects arrested and the number of victims killed. The points are scattered, suggesting that the number of victims killed may not be strongly influenced by the number of suspects involved."
   ]
  },
  {
   "cell_type": "markdown",
   "id": "d1c480bd",
   "metadata": {},
   "source": [
    "# State vs Victims Killed"
   ]
  },
  {
   "cell_type": "code",
   "execution_count": 145,
   "id": "d32fe564",
   "metadata": {},
   "outputs": [
    {
     "data": {
      "image/png": "[encoded data removed]",
      "text/plain": [
       "<Figure size 432x288 with 1 Axes>"
      ]
     },
     "metadata": {
      "needs_background": "light"
     },
     "output_type": "display_data"
    }
   ],
   "source": [
    "sns.barplot(x=train[\"State\"], y=train[\"Victims Killed\"]).set(xlabel=None)\n",
    "plt.title(\"State\")\n",
    "plt.xticks(rotation=90);"
   ]
  },
  {
   "cell_type": "markdown",
   "id": "7639ddf5",
   "metadata": {},
   "source": [
    "- Variation Across States: The heights of the bars indicate that there is variation in the average number of victims killed across different states.\n",
    "\n",
    "- High Incidents: Some states have higher bars, suggesting a higher average number of victims killed per incident.\n",
    "\n",
    "- Low Incidents: Conversely, some states have lower bars, indicating a lower average number of victims killed per incident.\n",
    "\n",
    "**In summary, this visualization provides an overview of the average impact of incidents (in terms of victims killed) in different states. It's a quick way to compare the severity of incidents across states based on this specific metric.**"
   ]
  },
  {
   "cell_type": "markdown",
   "id": "0ee907d4",
   "metadata": {},
   "source": [
    "# City/County, Suspects Arrested"
   ]
  },
  {
   "cell_type": "code",
   "execution_count": 146,
   "id": "7cd7ef44",
   "metadata": {},
   "outputs": [
    {
     "data": {
      "image/png": "[encoded data removed]",
      "text/plain": [
       "<Figure size 2160x720 with 2 Axes>"
      ]
     },
     "metadata": {
      "needs_background": "light"
     },
     "output_type": "display_data"
    }
   ],
   "source": [
    "plt.figure(figsize=(30, 10))\n",
    "labels = [\"City Or County\", \"Suspects Arrested\"]\n",
    "col = 1\n",
    "\n",
    "for i in labels:\n",
    "    if col < 3:\n",
    "        plt.subplot(1, 2, col)\n",
    "        sns.barplot(x=train[i], y=train[\"State\"]).set(xlabel=None)\n",
    "        plt.title(i)\n",
    "    col = col + 1\n"
   ]
  },
  {
   "cell_type": "markdown",
   "id": "e2e755cb",
   "metadata": {},
   "source": [
    "**City Or County\" vs. State:**\n",
    "\n",
    "- The bar plot shows the distribution of the \"City Or County\" variable across different states.\n",
    "It provides insights into whether certain cities or counties are more prevalent in specific states.\n",
    "You can observe the relative frequencies or counts of occurrences for each category of \"City Or County\" within different states.\n",
    "\"Suspects Arrested\" vs. State:\n",
    "\n",
    "- The bar plot displays how the variable \"Suspects Arrested\" is distributed across different states.\n",
    "It helps understand the relationship between the number of suspects arrested and the state in which incidents occur.\n",
    "It might reveal patterns or variations in law enforcement activities across states."
   ]
  },
  {
   "cell_type": "markdown",
   "id": "f52a9a30",
   "metadata": {},
   "source": [
    "# Suspects Injured and Arrested vs Victims Killed"
   ]
  },
  {
   "cell_type": "code",
   "execution_count": 147,
   "id": "22057289",
   "metadata": {},
   "outputs": [
    {
     "data": {
      "image/png": "[encoded data removed]",
      "text/plain": [
       "<Figure size 2016x1152 with 2 Axes>"
      ]
     },
     "metadata": {
      "needs_background": "light"
     },
     "output_type": "display_data"
    }
   ],
   "source": [
    "plt.figure(figsize=(28,16))\n",
    "lables = [\"Suspects Injured\",\"Suspects Arrested\"]\n",
    "col = 1\n",
    "\n",
    "for i in lables:\n",
    "    if col<9:\n",
    "        plt.subplot(2,4,col)\n",
    "        sns.barplot(x=train[i], y=train[\"Victims Killed\"]).set(xlabel=None)\n",
    "        plt.title(i)\n",
    "    col = col+1"
   ]
  },
  {
   "cell_type": "markdown",
   "id": "a7d11bf3",
   "metadata": {},
   "source": [
    "**\"Suspects Injured\" vs. Victims Killed:**\n",
    "\n",
    "- The bar plot in the top row indicates how the number of suspects injured is related to the number of victims killed.\n",
    "It helps understand whether incidents with more suspects injured tend to have a higher count of victims killed.\n",
    "\"Suspects Arrested\" vs. Victims Killed:\n",
    "\n",
    "- The bar plot in the bottom row explores the relationship between the number of suspects arrested and the number of victims killed.\n",
    "It provides insights into whether incidents involving more suspects being arrested are associated with a particular range of victims killed."
   ]
  },
  {
   "cell_type": "markdown",
   "id": "42df784e",
   "metadata": {},
   "source": [
    "# Correlation of arrested suspects to victims killed/injured"
   ]
  },
  {
   "cell_type": "code",
   "execution_count": 148,
   "id": "736cd50a",
   "metadata": {},
   "outputs": [
    {
     "data": {
      "image/png": "[encoded data removed]",
      "text/plain": [
       "<Figure size 1008x576 with 4 Axes>"
      ]
     },
     "metadata": {
      "needs_background": "light"
     },
     "output_type": "display_data"
    }
   ],
   "source": [
    "plt.figure(figsize=(14,8))\n",
    "lables = [\"Victims Killed\",\"Victims Injured\",\"Suspects Killed\",\"Suspects Injured\"]\n",
    "col = 1\n",
    "\n",
    "for i in lables:\n",
    "    if col<5:\n",
    "        plt.subplot(2,2,col)\n",
    "        sns.barplot(x=train[i], y=train[\"Suspects Arrested\"]).set(xlabel=None)\n",
    "        plt.title(i)\n",
    "    col = col+1"
   ]
  },
  {
   "cell_type": "markdown",
   "id": "97295c66",
   "metadata": {},
   "source": [
    "**\"Suspects Injured\" vs. Victims Killed:**\n",
    "\n",
    "- The bar plot suggests a potential positive correlation, indicating that incidents with a higher count of suspects injured may be associated with a higher number of victims killed. However, the strength of this correlation cannot be precisely determined without numerical correlation coefficients.\n",
    "\n",
    "**\"Suspects Arrested\" vs. Victims Killed:**\n",
    "\n",
    "- The bar plot for \"Suspects Arrested\" provides insights into whether incidents with more suspects being arrested are associated with a particular range of victims killed. The relationship could be positive, negative, or neutral, but without correlation coefficients, the strength and direction are not quantified."
   ]
  },
  {
   "cell_type": "markdown",
   "id": "c42cb3aa",
   "metadata": {},
   "source": [
    "### Transform Skewed Features"
   ]
  },
  {
   "cell_type": "code",
   "execution_count": 149,
   "id": "86832643",
   "metadata": {
    "scrolled": true
   },
   "outputs": [
    {
     "data": {
      "image/png": "[encoded data removed]",
      "text/plain": [
       "<Figure size 1440x1800 with 6 Axes>"
      ]
     },
     "metadata": {
      "needs_background": "light"
     },
     "output_type": "display_data"
    }
   ],
   "source": [
    "# Plot histogram for each continuous feature to see if a transformation is necessary\n",
    "plt.figure(figsize=(20,25))\n",
    "col = 1\n",
    "\n",
    "for feature in train.columns:\n",
    "    if train[feature].dtype!=\"object\":\n",
    "            if col<21:\n",
    "                plt.subplot(4,5,col)\n",
    "                sns.distplot(train[feature], kde=False).set(xlabel=None)\n",
    "                plt.title(\"Histogram for %s\" % (feature))\n",
    "            col += 1"
   ]
  },
  {
   "cell_type": "markdown",
   "id": "25019ce6",
   "metadata": {},
   "source": [
    "##### Box-Cox Power Transformation"
   ]
  },
  {
   "cell_type": "code",
   "execution_count": 150,
   "id": "b3136ec2",
   "metadata": {},
   "outputs": [],
   "source": [
    "# Assuming 'train' is your dataset\n",
    "train[\"Victims Killed\"] = train[\"Victims Killed\"].apply(lambda x: x**(1/3))\n",
    "train[\"Victims Injured\"] = train[\"Victims Injured\"].apply(lambda x: x**(1/6))\n",
    "train[\"Suspects Killed\"] = train[\"Suspects Killed\"].apply(lambda x: x**(1/1.5))\n",
    "train[\"Suspects Injured\"] = train[\"Suspects Injured\"].apply(lambda x: x**(1/1.4))\n",
    "train[\"Suspects Arrested\"] = train[\"Suspects Arrested\"].apply(lambda x: x**(1/1.5))\n",
    "# You can continue this pattern for other columns in your dataset\n",
    "\n",
    "# Remember to adjust the transformations based on the characteristics of your data\n"
   ]
  },
  {
   "cell_type": "markdown",
   "id": "6f7b842b",
   "metadata": {},
   "source": [
    "### Convert Categorical Features To Numeric"
   ]
  },
  {
   "cell_type": "code",
   "execution_count": 151,
   "id": "659a658e",
   "metadata": {},
   "outputs": [],
   "source": [
    "for feature in train.columns:\n",
    "    if train[feature].dtype==\"object\":\n",
    "        le = LabelEncoder()\n",
    "        train[feature] = le.fit_transform(train[feature].astype(str))\n",
    "        test[feature] = le.fit_transform(test[feature].astype(str))"
   ]
  },
  {
   "cell_type": "markdown",
   "id": "dfa6f4dd",
   "metadata": {},
   "source": [
    "**Split Into Train And Test Set**"
   ]
  },
  {
   "cell_type": "code",
   "execution_count": 152,
   "id": "67d37098",
   "metadata": {},
   "outputs": [],
   "source": [
    "# Drop unnecccessary features and split into training/test sets\n",
    "X = train.drop([\"Victims Killed\"], axis=1)\n",
    "y = train[\"Victims Killed\"]\n",
    "\n",
    "X_train,X_test,y_train,y_test = train_test_split(X, y, test_size=0.2, random_state=42)"
   ]
  },
  {
   "cell_type": "markdown",
   "id": "f497836c",
   "metadata": {},
   "source": [
    "### Standardize Features"
   ]
  },
  {
   "cell_type": "code",
   "execution_count": 153,
   "id": "638ff684",
   "metadata": {},
   "outputs": [
    {
     "data": {
      "text/plain": [
       "StandardScaler()"
      ]
     },
     "execution_count": 153,
     "metadata": {},
     "output_type": "execute_result"
    }
   ],
   "source": [
    "# Fit the scaler on the training data\n",
    "scaler = StandardScaler()\n",
    "scaler.fit(X_train)"
   ]
  },
  {
   "cell_type": "code",
   "execution_count": 154,
   "id": "9e97e7c1",
   "metadata": {},
   "outputs": [],
   "source": [
    "# Scale the training and test sets\n",
    "features = X_train.columns\n",
    "\n",
    "X_train[features] = scaler.transform(X_train)\n",
    "X_test[features] = scaler.transform(X_test)"
   ]
  },
  {
   "cell_type": "markdown",
   "id": "c03e5b03",
   "metadata": {},
   "source": [
    "## Models\n",
    "Let's build initial functions for the models."
   ]
  },
  {
   "cell_type": "code",
   "execution_count": 155,
   "id": "de226ef4",
   "metadata": {},
   "outputs": [],
   "source": [
    "def rmse_cv(model):\n",
    "    rmse = np.sqrt(-cross_val_score(model, X, y, scoring=\"neg_mean_squared_error\", cv=5)).mean().round(4)\n",
    "    return rmse\n",
    "    \n",
    "\n",
    "def evaluation(y, predictions):\n",
    "    mae = mean_absolute_error(y, predictions).round(4)\n",
    "    mse = mean_squared_error(y, predictions).round(4)\n",
    "    rmse = np.sqrt(mean_squared_error(y, predictions)).round(4)\n",
    "    r_squared = r2_score(y, predictions).round(4)\n",
    "    return mae, mse, rmse, r_squared"
   ]
  },
  {
   "cell_type": "code",
   "execution_count": 156,
   "id": "6c514ba3",
   "metadata": {},
   "outputs": [],
   "source": [
    "models = pd.DataFrame(columns=[\"Model\",\"MAE\",\"MSE\",\"RMSE\",\"R2 Score\",\"RMSE (Cross-Validation)\"])"
   ]
  },
  {
   "cell_type": "markdown",
   "id": "d5f222cd",
   "metadata": {},
   "source": [
    "### Linear Regression"
   ]
  },
  {
   "cell_type": "code",
   "execution_count": 157,
   "id": "a2b1b454",
   "metadata": {},
   "outputs": [
    {
     "name": "stdout",
     "output_type": "stream",
     "text": [
      "MAE: 0.0671\n",
      "MSE: 0.0344\n",
      "RMSE: 0.1856\n",
      "R2 Score: 0.0459\n",
      "------------------------------\n",
      "RMSE Cross-Validation: 0.1627\n"
     ]
    }
   ],
   "source": [
    "lin_reg = LinearRegression()\n",
    "lin_reg.fit(X_train, y_train)\n",
    "ln_predictions = lin_reg.predict(X_test)\n",
    "\n",
    "\n",
    "mae, mse, rmse, r_squared = evaluation(y_test, ln_predictions)\n",
    "print(\"MAE:\", mae)\n",
    "print(\"MSE:\", mse)\n",
    "print(\"RMSE:\", rmse)\n",
    "print(\"R2 Score:\", r_squared)\n",
    "print(\"-\"*30)\n",
    "rmse_cross_val = rmse_cv(lin_reg)\n",
    "print(\"RMSE Cross-Validation:\", rmse_cross_val)\n",
    "\n",
    "new_row = {\"Model\": \"LinearRegression\",\"MAE\": mae, \"MSE\": mse, \"RMSE\": rmse, \"R2 Score\": r_squared, \"RMSE (Cross-Validation)\": rmse_cross_val}\n",
    "models = models.append(new_row, ignore_index=True)"
   ]
  },
  {
   "cell_type": "markdown",
   "id": "f46e2c23",
   "metadata": {},
   "source": [
    "### Decision Tree"
   ]
  },
  {
   "cell_type": "code",
   "execution_count": 158,
   "id": "6a0e37b2",
   "metadata": {},
   "outputs": [
    {
     "name": "stdout",
     "output_type": "stream",
     "text": [
      "MAE: 0.0738\n",
      "MSE: 0.0754\n",
      "RMSE: 0.2747\n",
      "R2 Score: -1.09\n",
      "------------------------------\n",
      "RMSE Cross-Validation: 0.1627\n"
     ]
    }
   ],
   "source": [
    "d_tree = DecisionTreeRegressor()\n",
    "d_tree.fit(X_train, y_train)\n",
    "predictions = d_tree.predict(X_test)\n",
    "\n",
    "mae, mse, rmse, r_squared = evaluation(y_test, predictions)\n",
    "print(\"MAE:\", mae)\n",
    "print(\"MSE:\", mse)\n",
    "print(\"RMSE:\", rmse)\n",
    "print(\"R2 Score:\", r_squared)\n",
    "print(\"-\"*30)\n",
    "rmse_cross_val = rmse_cv(lin_reg)\n",
    "print(\"RMSE Cross-Validation:\", rmse_cross_val)\n",
    "\n",
    "new_row = {\"Model\": \"DecisionTree\",\"MAE\": mae, \"MSE\": mse, \"RMSE\": rmse, \"R2 Score\": r_squared, \"RMSE (Cross-Validation)\": rmse_cross_val}\n",
    "models = models.append(new_row, ignore_index=True)\n"
   ]
  },
  {
   "cell_type": "markdown",
   "id": "cb08ed8a",
   "metadata": {},
   "source": [
    "### Random forest"
   ]
  },
  {
   "cell_type": "code",
   "execution_count": 159,
   "id": "f412c078",
   "metadata": {},
   "outputs": [
    {
     "name": "stdout",
     "output_type": "stream",
     "text": [
      "MAE: 0.0709\n",
      "MSE: 0.0406\n",
      "RMSE: 0.2016\n",
      "R2 Score: -0.1257\n",
      "------------------------------\n",
      "RMSE Cross-Validation: 0.466\n"
     ]
    }
   ],
   "source": [
    "random_forest = RandomForestRegressor(n_estimators=250)\n",
    "random_forest.fit(X_train, y_train)\n",
    "predictions = random_forest.predict(X_test)\n",
    "\n",
    "mae, mse, rmse, r_squared = evaluation(y_test, predictions)\n",
    "print(\"MAE:\", mae)\n",
    "print(\"MSE:\", mse)\n",
    "print(\"RMSE:\", rmse)\n",
    "print(\"R2 Score:\", r_squared)\n",
    "print(\"-\"*30)\n",
    "rmse_cross_val = rmse_cv(random_forest)\n",
    "print(\"RMSE Cross-Validation:\", rmse_cross_val)\n",
    "\n",
    "new_row = {\"Model\": \"RandomForest\",\"MAE\": mae, \"MSE\": mse, \"RMSE\": rmse, \"R2 Score\": r_squared, \"RMSE (Cross-Validation)\": rmse_cross_val}\n",
    "models = models.append(new_row, ignore_index=True)"
   ]
  },
  {
   "cell_type": "markdown",
   "id": "a045c26a",
   "metadata": {},
   "source": [
    "### Adaptive Boosting"
   ]
  },
  {
   "cell_type": "code",
   "execution_count": 160,
   "id": "474636e6",
   "metadata": {},
   "outputs": [
    {
     "name": "stdout",
     "output_type": "stream",
     "text": [
      "MAE: 0.4118\n",
      "MSE: 0.173\n",
      "RMSE: 0.416\n",
      "R2 Score: -3.7939\n",
      "------------------------------\n",
      "RMSE Cross-Validation: 0.1627\n"
     ]
    }
   ],
   "source": [
    "Ada_boost = AdaBoostRegressor()\n",
    "Ada_boost.fit(X_train, y_train)\n",
    "predictions = Ada_boost.predict(X_test)\n",
    "\n",
    "mae, mse, rmse, r_squared = evaluation(y_test, predictions)\n",
    "print(\"MAE:\", mae)\n",
    "print(\"MSE:\", mse)\n",
    "print(\"RMSE:\", rmse)\n",
    "print(\"R2 Score:\", r_squared)\n",
    "print(\"-\"*30)\n",
    "rmse_cross_val = rmse_cv(lin_reg)\n",
    "print(\"RMSE Cross-Validation:\", rmse_cross_val)\n",
    "\n",
    "new_row = {\"Model\": \"AdaptiveBoosting\",\"MAE\": mae, \"MSE\": mse, \"RMSE\": rmse, \"R2 Score\": r_squared, \"RMSE (Cross-Validation)\": rmse_cross_val}\n",
    "models = models.append(new_row, ignore_index=True)"
   ]
  },
  {
   "cell_type": "markdown",
   "id": "feed6c00",
   "metadata": {},
   "source": [
    "### Gradient Boosting"
   ]
  },
  {
   "cell_type": "code",
   "execution_count": 161,
   "id": "61dd648b",
   "metadata": {},
   "outputs": [
    {
     "name": "stdout",
     "output_type": "stream",
     "text": [
      "MAE: 0.0699\n",
      "MSE: 0.0418\n",
      "RMSE: 0.2046\n",
      "R2 Score: -0.1592\n",
      "------------------------------\n",
      "RMSE Cross-Validation: 0.1627\n"
     ]
    }
   ],
   "source": [
    "g_boost = GradientBoostingRegressor()\n",
    "g_boost.fit(X_train, y_train)\n",
    "predictions = g_boost.predict(X_test)\n",
    "\n",
    "mae, mse, rmse, r_squared = evaluation(y_test, predictions)\n",
    "print(\"MAE:\", mae)\n",
    "print(\"MSE:\", mse)\n",
    "print(\"RMSE:\", rmse)\n",
    "print(\"R2 Score:\", r_squared)\n",
    "print(\"-\"*30)\n",
    "rmse_cross_val = rmse_cv(lin_reg)\n",
    "print(\"RMSE Cross-Validation:\", rmse_cross_val)\n",
    "\n",
    "new_row = {\"Model\": \"GradientBoosting\",\"MAE\": mae, \"MSE\": mse, \"RMSE\": rmse, \"R2 Score\": r_squared, \"RMSE (Cross-Validation)\": rmse_cross_val}\n",
    "models = models.append(new_row, ignore_index=True)"
   ]
  },
  {
   "cell_type": "markdown",
   "id": "25c51c7b",
   "metadata": {},
   "source": [
    "### Extreme Gradient Boosting"
   ]
  },
  {
   "cell_type": "code",
   "execution_count": 162,
   "id": "4ddf4b9c",
   "metadata": {},
   "outputs": [
    {
     "name": "stdout",
     "output_type": "stream",
     "text": [
      "MAE: 0.0686\n",
      "MSE: 0.0412\n",
      "RMSE: 0.2029\n",
      "R2 Score: -0.1411\n",
      "------------------------------\n",
      "RMSE Cross-Validation: 0.1627\n"
     ]
    }
   ],
   "source": [
    "Xg_boost = GradientBoostingRegressor()\n",
    "Xg_boost.fit(X_train, y_train)\n",
    "predictions = Xg_boost.predict(X_test)\n",
    "\n",
    "mae, mse, rmse, r_squared = evaluation(y_test, predictions)\n",
    "print(\"MAE:\", mae)\n",
    "print(\"MSE:\", mse)\n",
    "print(\"RMSE:\", rmse)\n",
    "print(\"R2 Score:\", r_squared)\n",
    "print(\"-\"*30)\n",
    "rmse_cross_val = rmse_cv(lin_reg)\n",
    "print(\"RMSE Cross-Validation:\", rmse_cross_val)\n",
    "\n",
    "new_row = {\"Model\": \"XGradientBoosting\",\"MAE\": mae, \"MSE\": mse, \"RMSE\": rmse, \"R2 Score\": r_squared, \"RMSE (Cross-Validation)\": rmse_cross_val}\n",
    "models = models.append(new_row, ignore_index=True)"
   ]
  },
  {
   "cell_type": "markdown",
   "id": "67bb443a",
   "metadata": {},
   "source": [
    "### Support Vector Regression"
   ]
  },
  {
   "cell_type": "code",
   "execution_count": 163,
   "id": "6fcdea99",
   "metadata": {},
   "outputs": [
    {
     "name": "stdout",
     "output_type": "stream",
     "text": [
      "MAE: 0.317\n",
      "MSE: 0.2127\n",
      "RMSE: 0.4611\n",
      "R2 Score: -4.8916\n",
      "------------------------------\n",
      "RMSE Cross-Validation: 0.2739\n"
     ]
    }
   ],
   "source": [
    "svr = SVR(C=100000)\n",
    "svr.fit(X_train, y_train)\n",
    "predictions = svr.predict(X_test)\n",
    "\n",
    "mae, mse, rmse, r_squared = evaluation(y_test, predictions)\n",
    "print(\"MAE:\", mae)\n",
    "print(\"MSE:\", mse)\n",
    "print(\"RMSE:\", rmse)\n",
    "print(\"R2 Score:\", r_squared)\n",
    "print(\"-\"*30)\n",
    "rmse_cross_val = rmse_cv(svr)\n",
    "print(\"RMSE Cross-Validation:\", rmse_cross_val)\n",
    "\n",
    "new_row = {\"Model\": \"SVR\",\"MAE\": mae, \"MSE\": mse, \"RMSE\": rmse, \"R2 Score\": r_squared, \"RMSE (Cross-Validation)\": rmse_cross_val}\n",
    "models = models.append(new_row, ignore_index=True)"
   ]
  },
  {
   "cell_type": "code",
   "execution_count": 166,
   "id": "c9aab4e7",
   "metadata": {},
   "outputs": [
    {
     "data": {
      "text/html": [
       "<div>\n",
       "<style scoped>\n",
       "    .dataframe tbody tr th:only-of-type {\n",
       "        vertical-align: middle;\n",
       "    }\n",
       "\n",
       "    .dataframe tbody tr th {\n",
       "        vertical-align: top;\n",
       "    }\n",
       "\n",
       "    .dataframe thead th {\n",
       "        text-align: right;\n",
       "    }\n",
       "</style>\n",
       "<table border=\"1\" class=\"dataframe\">\n",
       "  <thead>\n",
       "    <tr style=\"text-align: right;\">\n",
       "      <th></th>\n",
       "      <th>Model</th>\n",
       "      <th>MAE</th>\n",
       "      <th>MSE</th>\n",
       "      <th>RMSE</th>\n",
       "      <th>R2 Score</th>\n",
       "      <th>RMSE (Cross-Validation)</th>\n",
       "    </tr>\n",
       "  </thead>\n",
       "  <tbody>\n",
       "    <tr>\n",
       "      <th>0</th>\n",
       "      <td>LinearRegression</td>\n",
       "      <td>0.0671</td>\n",
       "      <td>0.0344</td>\n",
       "      <td>0.1856</td>\n",
       "      <td>0.0459</td>\n",
       "      <td>0.1627</td>\n",
       "    </tr>\n",
       "    <tr>\n",
       "      <th>2</th>\n",
       "      <td>RandomForest</td>\n",
       "      <td>0.0709</td>\n",
       "      <td>0.0406</td>\n",
       "      <td>0.2016</td>\n",
       "      <td>-0.1257</td>\n",
       "      <td>0.4660</td>\n",
       "    </tr>\n",
       "    <tr>\n",
       "      <th>5</th>\n",
       "      <td>XGradientBoosting</td>\n",
       "      <td>0.0686</td>\n",
       "      <td>0.0412</td>\n",
       "      <td>0.2029</td>\n",
       "      <td>-0.1411</td>\n",
       "      <td>0.1627</td>\n",
       "    </tr>\n",
       "    <tr>\n",
       "      <th>4</th>\n",
       "      <td>GradientBoosting</td>\n",
       "      <td>0.0699</td>\n",
       "      <td>0.0418</td>\n",
       "      <td>0.2046</td>\n",
       "      <td>-0.1592</td>\n",
       "      <td>0.1627</td>\n",
       "    </tr>\n",
       "    <tr>\n",
       "      <th>1</th>\n",
       "      <td>DecisionTree</td>\n",
       "      <td>0.0738</td>\n",
       "      <td>0.0754</td>\n",
       "      <td>0.2747</td>\n",
       "      <td>-1.0900</td>\n",
       "      <td>0.1627</td>\n",
       "    </tr>\n",
       "    <tr>\n",
       "      <th>3</th>\n",
       "      <td>AdaptiveBoosting</td>\n",
       "      <td>0.4118</td>\n",
       "      <td>0.1730</td>\n",
       "      <td>0.4160</td>\n",
       "      <td>-3.7939</td>\n",
       "      <td>0.1627</td>\n",
       "    </tr>\n",
       "    <tr>\n",
       "      <th>6</th>\n",
       "      <td>SVR</td>\n",
       "      <td>0.3170</td>\n",
       "      <td>0.2127</td>\n",
       "      <td>0.4611</td>\n",
       "      <td>-4.8916</td>\n",
       "      <td>0.2739</td>\n",
       "    </tr>\n",
       "  </tbody>\n",
       "</table>\n",
       "</div>"
      ],
      "text/plain": [
       "               Model     MAE     MSE    RMSE  R2 Score  \\\n",
       "0   LinearRegression  0.0671  0.0344  0.1856    0.0459   \n",
       "2       RandomForest  0.0709  0.0406  0.2016   -0.1257   \n",
       "5  XGradientBoosting  0.0686  0.0412  0.2029   -0.1411   \n",
       "4   GradientBoosting  0.0699  0.0418  0.2046   -0.1592   \n",
       "1       DecisionTree  0.0738  0.0754  0.2747   -1.0900   \n",
       "3   AdaptiveBoosting  0.4118  0.1730  0.4160   -3.7939   \n",
       "6                SVR  0.3170  0.2127  0.4611   -4.8916   \n",
       "\n",
       "   RMSE (Cross-Validation)  \n",
       "0                   0.1627  \n",
       "2                   0.4660  \n",
       "5                   0.1627  \n",
       "4                   0.1627  \n",
       "1                   0.1627  \n",
       "3                   0.1627  \n",
       "6                   0.2739  "
      ]
     },
     "execution_count": 166,
     "metadata": {},
     "output_type": "execute_result"
    }
   ],
   "source": [
    "models.sort_values(by=\"RMSE\")"
   ]
  },
  {
   "cell_type": "markdown",
   "id": "9d1d0237",
   "metadata": {},
   "source": [
    "## Comparison and Summary\n",
    "\n",
    "**The evaluation metrics provided include Mean Absolute Error (MAE), Mean Squared Error (MSE), Root Mean Squared Error (RMSE), R2 Score, and RMSE from Cross-Validation. To summarize the results and select the best models, consider the following:**\n",
    "\n",
    "**MAE, MSE, RMSE, and R2 Score:**\n",
    "\n",
    "Lower values for MAE, MSE, and RMSE are desirable, indicating better predictive performance.\n",
    "Higher R2 Score indicates better explanatory power.\n",
    "Cross-Validation RMSE:\n",
    "\n",
    "A lower cross-validation RMSE suggests better generalization performance.\n",
    "Let's rank the models based on these considerations:\n",
    "\n",
    "- Linear Regression:\n",
    "\n",
    "MAE: 0.0671\n",
    "MSE: 0.0344\n",
    "RMSE: 0.1856\n",
    "R2 Score: 0.0459\n",
    "Cross-Validation RMSE: 0.1627\n",
    "\n",
    "- XGradient Boosting:\n",
    "\n",
    "MAE: 0.0686\n",
    "MSE: 0.0412\n",
    "RMSE: 0.2029\n",
    "R2 Score: -0.1411\n",
    "Cross-Validation RMSE: 0.1627\n",
    "\n",
    "- Gradient Boosting:\n",
    "\n",
    "MAE: 0.0699\n",
    "MSE: 0.0418\n",
    "RMSE: 0.2046\n",
    "R2 Score: -0.1592\n",
    "Cross-Validation RMSE: 0.1627\n",
    "\n",
    "- Random Forest:\n",
    "\n",
    "MAE: 0.0709\n",
    "MSE: 0.0406\n",
    "RMSE: 0.2016\n",
    "R2 Score: -0.1257\n",
    "Cross-Validation RMSE: 0.4660\n",
    "\n",
    "- Decision Tree:\n",
    "\n",
    "MAE: 0.0738\n",
    "MSE: 0.0754\n",
    "RMSE: 0.2747\n",
    "R2 Score: -1.0900\n",
    "Cross-Validation RMSE: 0.1627\n",
    "\n",
    "- SVR:\n",
    "\n",
    "MAE: 0.3170\n",
    "MSE: 0.2127\n",
    "RMSE: 0.4611\n",
    "R2 Score: -4.8916\n",
    "Cross-Validation RMSE: 0.2739\n",
    "\n",
    "- Adaptive Boosting:\n",
    "\n",
    "MAE: 0.4118\n",
    "MSE: 0.1730\n",
    "RMSE: 0.4160\n",
    "R2 Score: -3.7939\n",
    "Cross-Validation RMSE: 0.1627\n",
    "\n",
    "### Summary and Ranking:\n",
    "\n",
    "Linear Regression performs the best with the lowest MAE, MSE, and RMSE, along with a reasonable R2 Score.\n",
    "XGradient Boosting and Gradient Boosting exhibit similar performance.\n",
    "Random Forest is slightly worse than XGradient Boosting and Gradient Boosting.\n",
    "Decision Tree shows higher errors and lower R2 Score, indicating overfitting.\n",
    "SVR and Adaptive Boosting have significantly higher errors and poor R2 Scores.\n",
    "Therefore, based on the given metrics, the models can be ranked as follows:\n",
    "\n",
    "Linear Regression\n",
    "XGradient Boosting / Gradient Boosting\n",
    "Random Forest\n",
    "Decision Tree\n",
    "SVR / Adaptive Boosting"
   ]
  },
  {
   "cell_type": "code",
   "execution_count": null,
   "id": "6adcf6d7",
   "metadata": {},
   "outputs": [],
   "source": []
  }
 ],
 "metadata": {
  "kernelspec": {
   "display_name": "Python 3 (ipykernel)",
   "language": "python",
   "name": "python3"
  },
  "language_info": {
   "codemirror_mode": {
    "name": "ipython",
    "version": 3
   },
   "file_extension": ".py",
   "mimetype": "text/x-python",
   "name": "python",
   "nbconvert_exporter": "python",
   "pygments_lexer": "ipython3",
   "version": "3.9.12"
  }
 },
 "nbformat": 4,
 "nbformat_minor": 5
}
